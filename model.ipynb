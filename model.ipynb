{
  "cells": [
    {
      "cell_type": "code",
      "execution_count": 42,
      "metadata": {
        "id": "3hhVyIcWLs3u"
      },
      "outputs": [],
      "source": [
        "import numpy as np\n",
        "import pandas as pd\n",
        "import sklearn\n",
        "from imblearn.under_sampling import RandomUnderSampler\n",
        "from sklearn.model_selection import train_test_split\n",
        "import math\n",
        "import random\n",
        "import matplotlib.pyplot as plt"
      ]
    },
    {
      "cell_type": "markdown",
      "metadata": {
        "id": "UzVLkSd7JKqs"
      },
      "source": [
        "## 0. Loading DataSet"
      ]
    },
    {
      "cell_type": "code",
      "execution_count": 4,
      "metadata": {
        "id": "OWSwn2v_Ls3v"
      },
      "outputs": [],
      "source": [
        "data_set = np.genfromtxt('Data\\magic04.data', delimiter=',', dtype=str) # Data is in the form of array of tuples\n",
        "labels = data_set[:, len(data_set[0]) - 1:len(data_set[0])]"
      ]
    },
    {
      "cell_type": "markdown",
      "metadata": {
        "id": "qJV3A4ZCIuTA"
      },
      "source": [
        "# 1. Data Balancing"
      ]
    },
    {
      "cell_type": "code",
      "execution_count": 5,
      "metadata": {
        "id": "5ygVRpocIuTA"
      },
      "outputs": [],
      "source": [
        "under_sampler = RandomUnderSampler()\n",
        "sampled_data, sampled_labels = under_sampler.fit_resample(data_set, labels)"
      ]
    },
    {
      "cell_type": "code",
      "execution_count": 6,
      "metadata": {
        "colab": {
          "base_uri": "https://localhost:8080/"
        },
        "id": "ZfoQzlxAIuTB",
        "outputId": "70fcc4d8-9730-4187-c521-88a40158bf11"
      },
      "outputs": [
        {
          "name": "stdout",
          "output_type": "stream",
          "text": [
            "{'g': 12332, 'h': 6688}\n",
            "{'g': 6688, 'h': 6688}\n"
          ]
        }
      ],
      "source": [
        "unique, counts = np.unique(labels, return_counts=True)\n",
        "print(dict(zip(unique, counts)))\n",
        "unique, counts = np.unique(sampled_labels, return_counts=True)\n",
        "print(dict(zip(unique, counts)))"
      ]
    },
    {
      "cell_type": "markdown",
      "metadata": {
        "id": "I_Ej111CIuTG"
      },
      "source": [
        "# 2. Data Split\n"
      ]
    },
    {
      "cell_type": "code",
      "execution_count": 7,
      "metadata": {
        "id": "I7UNBXcqIuTH"
      },
      "outputs": [],
      "source": [
        "training_data_set, testing_data_set = train_test_split(data_set, test_size=0.3)"
      ]
    },
    {
      "cell_type": "code",
      "execution_count": 8,
      "metadata": {
        "id": "APktxsNEIuTI"
      },
      "outputs": [],
      "source": [
        "training_data = np.array(training_data_set[:, 0:len(training_data_set[0]) - 1]).astype(np.float64)\n",
        "training_labels = training_data_set[:, len(training_data_set[0]) - 1:len(training_data_set[0])]\n",
        "training_labels = np.reshape(training_labels, len(training_labels))"
      ]
    },
    {
      "cell_type": "code",
      "execution_count": 9,
      "metadata": {
        "id": "vy5TbNfqIuTJ"
      },
      "outputs": [],
      "source": [
        "testing_data = np.array(testing_data_set[:, 0:len(testing_data_set[0]) - 1]).astype(np.float64)\n",
        "testing_labels = testing_data_set[:, len(testing_data_set[0]) - 1:len(testing_data_set[0])]\n",
        "testing_labels = np.reshape(testing_labels, len(testing_labels))"
      ]
    },
    {
      "cell_type": "markdown",
      "metadata": {
        "id": "cNtNwdgaIuTJ"
      },
      "source": [
        "# 3. Classification"
      ]
    },
    {
      "cell_type": "code",
      "execution_count": 10,
      "metadata": {
        "id": "P6cEIKpXIuTK"
      },
      "outputs": [],
      "source": [
        "from sklearn.metrics import accuracy_score\n",
        "from sklearn.metrics import precision_score\n",
        "from sklearn.metrics import recall_score\n",
        "from sklearn.metrics import f1_score\n",
        "\n",
        "from sklearn import tree\n",
        "from sklearn.naive_bayes import GaussianNB\n",
        "from sklearn.neighbors import KNeighborsClassifier\n",
        "from sklearn.ensemble import AdaBoostClassifier\n",
        "from sklearn.ensemble import RandomForestClassifier\n",
        "import math\n",
        "import random"
      ]
    },
    {
      "cell_type": "markdown",
      "metadata": {
        "id": "UBnEhiF0IuTK"
      },
      "source": [
        "### (a) Decision Tree"
      ]
    },
    {
      "cell_type": "code",
      "execution_count": 11,
      "metadata": {
        "id": "MqCh1qnbIuTL"
      },
      "outputs": [],
      "source": [
        "def decision_tree(tr_data, tr_labels, tst_data):\n",
        "    decision_tree = tree.DecisionTreeClassifier()\n",
        "    decision_tree_pred = decision_tree.fit(tr_data, tr_labels).predict(tst_data)\n",
        "    return decision_tree_pred"
      ]
    },
    {
      "cell_type": "markdown",
      "metadata": {
        "id": "GVBuqA-1IuTL"
      },
      "source": [
        "### (b) AdaBoost"
      ]
    },
    {
      "cell_type": "code",
      "execution_count": 12,
      "metadata": {
        "id": "CzlAcCS7IuTL"
      },
      "outputs": [],
      "source": [
        "def ada_boost(tr_data, tr_labels, tst_data, n_estimators):\n",
        "    ada_boost = AdaBoostClassifier(n_estimators=n_estimators)\n",
        "    ada_boost_pred = ada_boost.fit(tr_data, tr_labels).predict(tst_data)\n",
        "    return ada_boost_pred\n",
        "    "
      ]
    },
    {
      "cell_type": "markdown",
      "metadata": {
        "id": "9pth-Fz3IuTM"
      },
      "source": [
        "### (c) K-Nearest Neighbors (K-NN)"
      ]
    },
    {
      "cell_type": "code",
      "execution_count": 13,
      "metadata": {
        "id": "yWeUvRkNIuTM"
      },
      "outputs": [],
      "source": [
        "def knn(tr_data, tr_labels, tst_data, k_neighb = 3):\n",
        "    neigh = KNeighborsClassifier(n_neighbors=k_neighb)\n",
        "    knn_pred = neigh.fit(tr_data, tr_labels).predict(tst_data)\n",
        "    return knn_pred"
      ]
    },
    {
      "cell_type": "markdown",
      "metadata": {
        "id": "fU1N4FvgIuTN"
      },
      "source": [
        "### (d) Random Forests\n"
      ]
    },
    {
      "cell_type": "code",
      "execution_count": 14,
      "metadata": {
        "id": "qG1bP8IeIuTN"
      },
      "outputs": [],
      "source": [
        "def random_forests(tr_data, tr_labels, tst_data, n_estimators):\n",
        "    random_forests = RandomForestClassifier(n_estimators=n_estimators)\n",
        "    random_forests_pred = random_forests.fit(tr_data, tr_labels).predict(tst_data)\n",
        "    return random_forests_pred\n",
        "    "
      ]
    },
    {
      "cell_type": "markdown",
      "metadata": {
        "id": "648cjAGqIuTN"
      },
      "source": [
        "### (e) Na¨ıve Bayes\n"
      ]
    },
    {
      "cell_type": "code",
      "execution_count": 15,
      "metadata": {
        "id": "Mh3_6_19IuTN"
      },
      "outputs": [],
      "source": [
        "def naive_bayes(tr_data, tr_labels, tst_data):\n",
        "    gnb = GaussianNB()\n",
        "    naive_bayes_pred = gnb.fit(tr_data, tr_labels).predict(tst_data)\n",
        "    return naive_bayes_pred"
      ]
    },
    {
      "cell_type": "code",
      "execution_count": null,
      "metadata": {
        "id": "D9L5s7DgKvKx"
      },
      "outputs": [],
      "source": []
    },
    {
      "cell_type": "markdown",
      "metadata": {
        "id": "_oEIhfbrJKq3"
      },
      "source": [
        "# 4. Model Parameter Tuning\n"
      ]
    },
    {
      "cell_type": "code",
      "execution_count": 16,
      "metadata": {
        "id": "6snulUxPM5JU"
      },
      "outputs": [],
      "source": [
        "def splitData(data, labels, n_splits):\n",
        "\n",
        "  step = math.floor(len(data)/n_splits)\n",
        "\n",
        "  splitted_data = []\n",
        "  splitted_labels = []\n",
        "\n",
        "  index = 0\n",
        "  for i in range(n_splits):\n",
        "    if index+step > len(data):\n",
        "      splitted_data.append(data[index:])\n",
        "      splitted_labels.append(labels[index:])\n",
        "    else:\n",
        "      splitted_data.append(data[index: index+step])\n",
        "      splitted_labels.append(labels[index:index+step])\n",
        "    index = index+step\n",
        "\n",
        "  return splitted_data, splitted_labels\n"
      ]
    },
    {
      "cell_type": "code",
      "execution_count": 17,
      "metadata": {
        "id": "B9Y-h2fWWDLM"
      },
      "outputs": [],
      "source": [
        "def tuneParamters(splitted_data, splitted_labels, set_classifier_params, domain, kparams):\n",
        "\n",
        "  params = []\n",
        "\n",
        "  scores = {}\n",
        "\n",
        "  # intitialize k random parmaters space\n",
        "  for i in range(kparams):\n",
        "\n",
        "    index = random.randint(0, len(domain)-1)\n",
        "    params.append(domain[index])\n",
        "    del domain[index]\n",
        "\n",
        "  # classifing using each generated parameter\n",
        "  for i in range(kparams):\n",
        "    \n",
        "    classifieri = set_classifier_params(params[i])\n",
        "    sum = 0\n",
        "    n = len(splitted_data)\n",
        "\n",
        "    # k-corss validation and compute average score\n",
        "    for j in range(n):\n",
        "\n",
        "      #splitting data to train and validation\n",
        "      training_data = [splitted_data[k] for k in range(n) if k != j]\n",
        "      training_labels = [splitted_labels[k] for k in range(n) if k != j]\n",
        "      \n",
        "      merged_data = []\n",
        "\n",
        "      for k in range(len(training_data)):\n",
        "        merged_data.extend(training_data[k])\n",
        "      training_data = merged_data\n",
        "\n",
        "      merged_labels = []\n",
        "\n",
        "      for k in range(len(training_labels)):\n",
        "        merged_labels.extend(training_labels[k])\n",
        "      training_labels = merged_labels\n",
        "\n",
        "      \n",
        "      testing_data = splitted_data[j]\n",
        "      testing_labels = splitted_labels[j]\n",
        "\n",
        "      classifier_pred = classifieri.fit(training_data, training_labels).predict(testing_data)\n",
        "      accuracy = accuracy_score(testing_labels, classifier_pred)\n",
        "      sum = sum + accuracy\n",
        "    scores[params[i]] = sum/n\n",
        "\n",
        "  return max(scores, key=scores.get)\n",
        "\n",
        "  \n",
        "\n",
        "\n",
        "\n",
        "  "
      ]
    },
    {
      "cell_type": "code",
      "execution_count": 18,
      "metadata": {
        "colab": {
          "base_uri": "https://localhost:8080/"
        },
        "id": "0K8LcCQzO5nt",
        "outputId": "35ffdad7-6b7a-49f9-ee86-8287182c97ee"
      },
      "outputs": [
        {
          "name": "stdout",
          "output_type": "stream",
          "text": [
            "Knn accuracy with k = 11 is 81.07255520504731%\n",
            "adaboost accuracy with n_estimators = 28 is 82.68489309498773%\n",
            "Random forests accuracy with n_estimators = 7 is 86.04977216964599%\n"
          ]
        }
      ],
      "source": [
        "splitted_data, splitted_labels = splitData(training_data, training_labels, 2)\n",
        "\n",
        "#K-nn classifier tuning:\n",
        "k = tuneParamters(splitted_data, splitted_labels, lambda k: KNeighborsClassifier(n_neighbors=k), [i for i in range(1, 30)], 5)\n",
        "\n",
        "predictions = knn(training_data, training_labels, testing_data, k)\n",
        "\n",
        "print(f\"Knn accuracy with k = {k} is {accuracy_score(testing_labels, predictions)*100}%\")\n",
        "\n",
        "#adaboost tuning:\n",
        "n_estimators = tuneParamters(splitted_data, splitted_labels, lambda n_estimators: AdaBoostClassifier(n_estimators=n_estimators), [i for i in range(1, 30)], 5)\n",
        "\n",
        "predictions = ada_boost(training_data, training_labels, testing_data, n_estimators=n_estimators)\n",
        "\n",
        "print(f\"adaboost accuracy with n_estimators = {n_estimators} is {accuracy_score(testing_labels, predictions)*100}%\")\n",
        "\n",
        "#random forests tuning:\n",
        "n_estimators = tuneParamters(splitted_data, splitted_labels, lambda n_estimators: RandomForestClassifier(n_estimators=n_estimators), [i for i in range(1, 30)], 5)\n",
        "\n",
        "predictions = random_forests(training_data, training_labels, testing_data, n_estimators=n_estimators)\n",
        "\n",
        "print(f\"Random forests accuracy with n_estimators = {n_estimators} is {accuracy_score(testing_labels, predictions)*100}%\")"
      ]
    },
    {
      "cell_type": "code",
      "execution_count": 19,
      "metadata": {
        "colab": {
          "base_uri": "https://localhost:8080/"
        },
        "id": "8YdAxfx7JKq3",
        "outputId": "9ad7a763-8c0e-4d59-daee-c9db51ee7538"
      },
      "outputs": [
        {
          "name": "stdout",
          "output_type": "stream",
          "text": [
            "Decision tree accuracy:  80.89730108657554 %\n"
          ]
        },
        {
          "data": {
            "text/plain": [
              "0.8096722519223006"
            ]
          },
          "execution_count": 19,
          "metadata": {},
          "output_type": "execute_result"
        }
      ],
      "source": [
        "decision_tree_pred = decision_tree(training_data, training_labels, testing_data)\n",
        "print(\"Decision tree accuracy: \", accuracy_score(testing_labels, decision_tree_pred) * 100, \"%\")\n",
        "precision_score(testing_labels, decision_tree_pred, average='weighted')\n",
        "recall_score(testing_labels, decision_tree_pred, average='weighted')\n",
        "f1_score(testing_labels, decision_tree_pred, average='weighted')"
      ]
    },
    {
      "cell_type": "code",
      "execution_count": 20,
      "metadata": {
        "colab": {
          "base_uri": "https://localhost:8080/"
        },
        "id": "wgw5EyhtJKq4",
        "outputId": "16fece09-1825-40b2-a841-bf722bd3493d"
      },
      "outputs": [
        {
          "name": "stdout",
          "output_type": "stream",
          "text": [
            "Na¨ıve bayes accuracy:  73.32632316859447 %\n"
          ]
        },
        {
          "data": {
            "text/plain": [
              "0.7076055808863788"
            ]
          },
          "execution_count": 20,
          "metadata": {},
          "output_type": "execute_result"
        }
      ],
      "source": [
        "naive_bayes_pred = naive_bayes(training_data, training_labels, testing_data)\n",
        "print(\"Na¨ıve bayes accuracy: \", accuracy_score(testing_labels, naive_bayes_pred) * 100, \"%\")\n",
        "precision_score(testing_labels, naive_bayes_pred, average='weighted')\n",
        "recall_score(testing_labels, naive_bayes_pred, average='weighted')\n",
        "f1_score(testing_labels, naive_bayes_pred, average='weighted')"
      ]
    },
    {
      "cell_type": "code",
      "execution_count": 21,
      "metadata": {
        "colab": {
          "base_uri": "https://localhost:8080/"
        },
        "id": "EkZQoWprJKq4",
        "outputId": "b85086d0-7470-49f5-82d6-f5bc7604f8b9"
      },
      "outputs": [
        {
          "name": "stdout",
          "output_type": "stream",
          "text": [
            "1-NN accuracy:  77.56747283561164 %\n",
            "2-NN accuracy:  79.37259025587102 %\n",
            "3-NN accuracy:  80.07360672975815 %\n",
            "4-NN accuracy:  79.93340343498072 %\n",
            "5-NN accuracy:  80.45916579039607 %\n",
            "6-NN accuracy:  80.51174202593761 %\n",
            "7-NN accuracy:  80.82719943918683 %\n",
            "8-NN accuracy:  80.58184367332632 %\n",
            "9-NN accuracy:  80.73957237995093 %\n",
            "10-NN accuracy:  80.66947073256222 %\n",
            "11-NN accuracy:  81.07255520504731 %\n",
            "12-NN accuracy:  80.72204696810375 %\n",
            "13-NN accuracy:  81.01997896950579 %\n",
            "14-NN accuracy:  81.0900806168945 %\n",
            "15-NN accuracy:  81.31791097090782 %\n",
            "16-NN accuracy:  81.0900806168945 %\n",
            "17-NN accuracy:  81.14265685243603 %\n",
            "18-NN accuracy:  80.96740273396425 %\n",
            "19-NN accuracy:  81.28286014721347 %\n",
            "20-NN accuracy:  81.31791097090782 %\n"
          ]
        }
      ],
      "source": [
        "k_neighb = [1, 2, 3, 4, 5, 6, 7, 8, 9, 10, 11, 12, 13, 14, 15, 16, 17, 18, 19, 20]\n",
        "for k in k_neighb:\n",
        "    knn_pred = knn(training_data, training_labels, testing_data, k)\n",
        "    print(str(k) + \"-NN accuracy: \", accuracy_score(testing_labels, knn_pred) * 100, \"%\")\n",
        "    precision_score(testing_labels, knn_pred, average='weighted')\n",
        "    recall_score(testing_labels, knn_pred, average='weighted')\n",
        "    f1_score(testing_labels, knn_pred, average='weighted')"
      ]
    },
    {
      "cell_type": "code",
      "execution_count": 22,
      "metadata": {
        "colab": {
          "base_uri": "https://localhost:8080/"
        },
        "id": "Xj_4X6pMJKq5",
        "outputId": "d93c651d-32fd-4cb1-831c-04a3c735c85f"
      },
      "outputs": [
        {
          "name": "stdout",
          "output_type": "stream",
          "text": [
            "90_estimators AdaBoost accuracy:  84.4900105152471 %\n",
            "91_estimators AdaBoost accuracy:  84.52506133894147 %\n",
            "92_estimators AdaBoost accuracy:  84.5075359270943 %\n",
            "93_estimators AdaBoost accuracy:  84.5075359270943 %\n",
            "94_estimators AdaBoost accuracy:  84.43743427970557 %\n",
            "95_estimators AdaBoost accuracy:  84.577637574483 %\n",
            "96_estimators AdaBoost accuracy:  84.52506133894147 %\n",
            "97_estimators AdaBoost accuracy:  84.5075359270943 %\n",
            "98_estimators AdaBoost accuracy:  84.52506133894147 %\n",
            "99_estimators AdaBoost accuracy:  84.4900105152471 %\n",
            "100_estimators AdaBoost accuracy:  84.43743427970557 %\n"
          ]
        }
      ],
      "source": [
        "n_estimators = [90, 91, 92, 93, 94, 95, 96, 97, 98, 99, 100]\n",
        "for n in n_estimators:\n",
        "    ada_boost_pred = ada_boost(training_data, training_labels, testing_data, n)\n",
        "    print(str(n) + \"_estimators AdaBoost accuracy: \", accuracy_score(testing_labels, ada_boost_pred) * 100, \"%\")\n",
        "    precision_score(testing_labels, ada_boost_pred, average='weighted')\n",
        "    recall_score(testing_labels, ada_boost_pred, average='weighted')\n",
        "    f1_score(testing_labels, ada_boost_pred, average='weighted')"
      ]
    },
    {
      "cell_type": "code",
      "execution_count": 23,
      "metadata": {
        "colab": {
          "base_uri": "https://localhost:8080/",
          "height": 466
        },
        "id": "96nxD2I1JKq5",
        "outputId": "688e5389-3ab8-4df5-e9be-79be86706efc"
      },
      "outputs": [
        {
          "name": "stdout",
          "output_type": "stream",
          "text": [
            "90_estimators random forests accuracy:  88.13529617946023 %\n",
            "91_estimators random forests accuracy:  88.27549947423763 %\n",
            "92_estimators random forests accuracy:  88.43322818086226 %\n",
            "93_estimators random forests accuracy:  87.87241500175254 %\n",
            "94_estimators random forests accuracy:  88.11777076761304 %\n",
            "95_estimators random forests accuracy:  88.18787241500175 %\n",
            "96_estimators random forests accuracy:  88.10024535576586 %\n",
            "97_estimators random forests accuracy:  88.0651945320715 %\n",
            "98_estimators random forests accuracy:  88.20539782684892 %\n",
            "99_estimators random forests accuracy:  88.04766912022433 %\n",
            "100_estimators random forests accuracy:  88.1528215913074 %\n"
          ]
        }
      ],
      "source": [
        "n_estimators = [90, 91, 92, 93, 94, 95, 96, 97, 98, 99, 100]\n",
        "for n in n_estimators:\n",
        "    random_forests_pred = random_forests(training_data, training_labels, testing_data, n)\n",
        "    print(str(n) + \"_estimators random forests accuracy: \", accuracy_score(testing_labels, random_forests_pred) * 100, \"%\")\n",
        "    precision_score(testing_labels, random_forests_pred, average='weighted')\n",
        "    recall_score(testing_labels, random_forests_pred, average='weighted')\n",
        "    f1_score(testing_labels, random_forests_pred, average='weighted')"
      ]
    },
    {
      "cell_type": "markdown",
      "metadata": {
        "id": "cHOyY19dIuTR"
      },
      "source": [
        "# 5. Report Requirements"
      ]
    },
    {
      "cell_type": "code",
      "execution_count": null,
      "metadata": {
        "id": "pkdkawnfIuTR"
      },
      "outputs": [],
      "source": []
    },
    {
      "cell_type": "code",
      "execution_count": null,
      "metadata": {
        "id": "_SDiNhPvIuTR"
      },
      "outputs": [],
      "source": []
    },
    {
      "cell_type": "markdown",
      "metadata": {
        "id": "2CYEiRxeIuTR"
      },
      "source": [
        "# 6. Bonus"
      ]
    },
    {
      "cell_type": "code",
      "execution_count": 24,
      "metadata": {
        "id": "bDaVjX3JIuTR"
      },
      "outputs": [],
      "source": [
        "import torch\n",
        "import torch.nn as nn\n",
        "import torch.nn.functional as F\n",
        "from sklearn import preprocessing"
      ]
    },
    {
      "cell_type": "code",
      "execution_count": 25,
      "metadata": {
        "id": "_pOz6TihIuTU"
      },
      "outputs": [],
      "source": [
        "EPOCHS = 2000"
      ]
    },
    {
      "cell_type": "code",
      "execution_count": 26,
      "metadata": {
        "id": "XqVrM9C9IuTW"
      },
      "outputs": [],
      "source": [
        "le = preprocessing.LabelEncoder()\n",
        "training_encoded_labels = le.fit_transform(training_labels)\n",
        "testing_encoded_labels = le.fit_transform(testing_labels)"
      ]
    },
    {
      "cell_type": "code",
      "execution_count": 27,
      "metadata": {
        "id": "YbEZd_bKIuTW",
        "outputId": "96843f7f-5730-49ac-9d3c-19a05a79952a"
      },
      "outputs": [
        {
          "name": "stdout",
          "output_type": "stream",
          "text": [
            "Training Data Shape (13314, 10)\n",
            "Training Label Shape (13314,)\n"
          ]
        }
      ],
      "source": [
        "print(f'Training Data Shape {training_data.shape}')\n",
        "print(f'Training Label Shape {training_encoded_labels.shape}')"
      ]
    },
    {
      "cell_type": "code",
      "execution_count": 28,
      "metadata": {
        "id": "8DcDIFAaIuTW",
        "outputId": "c1db81ac-0a15-4c14-beeb-05c9e3160f4a"
      },
      "outputs": [
        {
          "name": "stdout",
          "output_type": "stream",
          "text": [
            "Training Data  [ 13.023   10.28     2.1477   0.7829   0.5231 -12.3598  -6.5581  -8.6419\n",
            "  66.082  124.327 ]\n",
            "Training Label 0\n"
          ]
        }
      ],
      "source": [
        "print(f'Training Data  {training_data[0]}')\n",
        "print(f'Training Label {training_encoded_labels[0]}')"
      ]
    },
    {
      "cell_type": "code",
      "execution_count": 29,
      "metadata": {
        "id": "Op-0diOvIuTX"
      },
      "outputs": [],
      "source": [
        "X_train_val = torch.from_numpy(training_data).float()\n",
        "X_test = torch.from_numpy(testing_data).float()\n",
        "y_train_val = torch.from_numpy(training_encoded_labels).float()\n",
        "y_test = torch.from_numpy(testing_encoded_labels).float()"
      ]
    },
    {
      "cell_type": "code",
      "execution_count": 30,
      "metadata": {
        "id": "nyIDNRhvIuTX",
        "outputId": "882c023a-25c6-48e9-9f1e-d52f12c95b0b"
      },
      "outputs": [
        {
          "name": "stdout",
          "output_type": "stream",
          "text": [
            "torch.Size([13314, 10])\n",
            "torch.Size([5706, 10])\n"
          ]
        }
      ],
      "source": [
        "print(X_train_val.shape)\n",
        "print(X_test.shape)"
      ]
    },
    {
      "cell_type": "code",
      "execution_count": 31,
      "metadata": {
        "id": "fftquonnIuTY"
      },
      "outputs": [],
      "source": [
        "X_train, X_val, y_train, y_val = train_test_split(X_train_val, y_train_val, test_size=0.1, random_state=42) "
      ]
    },
    {
      "cell_type": "code",
      "execution_count": 32,
      "metadata": {
        "id": "gXp9WDnJIuTY",
        "outputId": "672d248a-5dcd-48df-ec2a-b93478bd0303"
      },
      "outputs": [
        {
          "name": "stdout",
          "output_type": "stream",
          "text": [
            "torch.Size([11982, 10])\n",
            "torch.Size([1332, 10])\n",
            "torch.Size([5706, 10])\n"
          ]
        }
      ],
      "source": [
        "print(X_train.shape)\n",
        "print(X_val.shape)\n",
        "print(X_test.shape)"
      ]
    },
    {
      "cell_type": "code",
      "execution_count": 33,
      "metadata": {
        "id": "5pMwDqWeIuTY"
      },
      "outputs": [],
      "source": [
        "class ClassificationModel(nn.Module):\n",
        "    def __init__(self, input_layer, hidden_layer_1, hidden_layer_2, output_layer):\n",
        "        super(ClassificationModel, self).__init__()\n",
        "        self.l1 = nn.Linear(input_layer, hidden_layer_1)\n",
        "        self.l2 = nn.Linear(hidden_layer_1, hidden_layer_2)\n",
        "        self.out = nn.Linear(hidden_layer_2, output_layer)\n",
        " \n",
        "    def forward(self, data):\n",
        "        x = self.l1(data)\n",
        "        x = torch.relu(x)\n",
        "        x = self.l2(x)\n",
        "        x = torch.relu(x)\n",
        "        x = self.out(x)\n",
        "        return torch.sigmoid(x)\n",
        "     \n"
      ]
    },
    {
      "cell_type": "code",
      "execution_count": 92,
      "metadata": {
        "id": "JiCXblA8IuTZ"
      },
      "outputs": [],
      "source": [
        "\n",
        "def train_eval_model(model, epochs, optimizer, loss_fn, X_train, X_val, y_train, y_val, cross_val=False):\n",
        "    acc_data_val = []\n",
        "    acc_data_train = []\n",
        "    loss_data_val = []\n",
        "    loss_data_train = []\n",
        "\n",
        "    for epoch in range(epochs+1):\n",
        "        optimizer.zero_grad()\n",
        "        model.train()\n",
        "        y_pred_train = model(X_train)\n",
        "        loss_train = loss_fn(y_pred_train, y_train)\n",
        "        loss_train.backward()\n",
        "        optimizer.step()\n",
        "\n",
        "        model.eval()\n",
        "        y_pred_val = model(X_val)\n",
        "        loss_val = loss_fn(y_pred_val, y_val)\n",
        "        condition = y_pred_val >= 0.5\n",
        "        y_pred_val = torch.where(condition, 1, 0)\n",
        "        val_acc = torch.sum(y_pred_val == y_val) / len(y_val)\n",
        "\n",
        "        condition = y_pred_train >= 0.5\n",
        "        y_pred_train = torch.where(condition, 1, 0)\n",
        "        train_acc = torch.sum(y_pred_train == y_train) / len(y_train)\n",
        "        if epoch % 250 == 0 and not cross_val:\n",
        "            print(f'{epoch} : Training loss {loss_train} && Training Acc is {train_acc} || Val loss {loss_val} && Val Acc is {val_acc}')\n",
        "        acc_data_val.append(val_acc)\n",
        "        acc_data_train.append(train_acc)\n",
        "        loss_data_val.append(loss_val.detach().numpy())\n",
        "        loss_data_train.append(loss_train.detach().numpy())\n",
        "\n",
        "    return np.array(acc_data_train), np.array(acc_data_val), np.array(loss_data_train), np.array(loss_data_val)\n",
        "            "
      ]
    },
    {
      "cell_type": "code",
      "execution_count": 93,
      "metadata": {
        "id": "0xJu581mIuTZ",
        "outputId": "b1b7284e-e8cd-405e-d345-4b96b8535bb5"
      },
      "outputs": [
        {
          "name": "stdout",
          "output_type": "stream",
          "text": [
            "0 : Training loss 1.7417539358139038 && Training Acc is 0.3456851840019226 || Val loss 1.7061175107955933 && Val Acc is 0.347597599029541\n",
            "250 : Training loss 0.5654973983764648 && Training Acc is 0.7026373147964478 || Val loss 0.5781200528144836 && Val Acc is 0.6974474191665649\n",
            "500 : Training loss 0.5167015790939331 && Training Acc is 0.7403605580329895 || Val loss 0.5352199077606201 && Val Acc is 0.7252252101898193\n",
            "750 : Training loss 0.49395713210105896 && Training Acc is 0.7487064003944397 || Val loss 0.5160152912139893 && Val Acc is 0.7334834933280945\n",
            "1000 : Training loss 0.4811987578868866 && Training Acc is 0.759222149848938 || Val loss 0.5052580833435059 && Val Acc is 0.7409909963607788\n",
            "1250 : Training loss 0.4709923267364502 && Training Acc is 0.7663161158561707 || Val loss 0.49678847193717957 && Val Acc is 0.7454954981803894\n",
            "1500 : Training loss 0.46173080801963806 && Training Acc is 0.7744116187095642 || Val loss 0.48998501896858215 && Val Acc is 0.7582582831382751\n",
            "1750 : Training loss 0.4505380392074585 && Training Acc is 0.7882657051086426 || Val loss 0.48094066977500916 && Val Acc is 0.7717717885971069\n",
            "2000 : Training loss 0.43946573138237 && Training Acc is 0.7997829914093018 || Val loss 0.47304514050483704 && Val Acc is 0.7860360145568848\n"
          ]
        }
      ],
      "source": [
        "model_1 = ClassificationModel(10, 16, 32, 1)\n",
        "loss_fn = nn.BCELoss()\n",
        "optimizer = torch.optim.Adam(model_1.parameters(), lr=1e-4)\n",
        "acc_data_train_1, acc_data_val_1, loss_data_train_1, loss_data_val_1 = train_eval_model(model_1, 2000, optimizer, loss_fn, X_train, X_val, y_train.reshape(-1, 1), y_val.reshape(-1, 1))"
      ]
    },
    {
      "cell_type": "code",
      "execution_count": 36,
      "metadata": {
        "id": "TebNHNOVIuTZ",
        "outputId": "244b9068-f236-44d3-d745-4911e9c3cee1"
      },
      "outputs": [
        {
          "name": "stdout",
          "output_type": "stream",
          "text": [
            "0 : Training loss 1.3720358610153198 && Training Acc is 0.39158737659454346 || Val loss 1.2320791482925415 && Val Acc is 0.42942944169044495\n",
            "250 : Training loss 0.48842087388038635 && Training Acc is 0.7636454701423645 || Val loss 0.5033630728721619 && Val Acc is 0.7560060024261475\n",
            "500 : Training loss 0.44662463665008545 && Training Acc is 0.793022871017456 || Val loss 0.46432870626449585 && Val Acc is 0.782282292842865\n",
            "750 : Training loss 0.4216046631336212 && Training Acc is 0.8102152943611145 || Val loss 0.4439956545829773 && Val Acc is 0.8003003001213074\n",
            "1000 : Training loss 0.399430513381958 && Training Acc is 0.8265731930732727 || Val loss 0.42929309606552124 && Val Acc is 0.8003003001213074\n",
            "1250 : Training loss 0.38283559679985046 && Training Acc is 0.8336671590805054 || Val loss 0.4188651144504547 && Val Acc is 0.81456458568573\n",
            "1500 : Training loss 0.3716242015361786 && Training Acc is 0.8404272794723511 || Val loss 0.4109664857387543 && Val Acc is 0.8183183073997498\n",
            "1750 : Training loss 0.3623834550380707 && Training Acc is 0.843932569026947 || Val loss 0.4046933352947235 && Val Acc is 0.8228228092193604\n",
            "2000 : Training loss 0.3566608130931854 && Training Acc is 0.8444333076477051 || Val loss 0.40236276388168335 && Val Acc is 0.8295795917510986\n"
          ]
        }
      ],
      "source": [
        "model_2 = ClassificationModel(10, 64, 128, 1)\n",
        "loss_fn = nn.BCELoss()\n",
        "optimizer = torch.optim.Adam(model_2.parameters(), lr=1e-4)\n",
        "acc_data_train_2, acc_data_val_2, loss_data_train_2, loss_data_val_2 = train_eval_model(model_2, 2000, optimizer, loss_fn, X_train, X_val, y_train.reshape(-1, 1), y_val.reshape(-1, 1))"
      ]
    },
    {
      "cell_type": "code",
      "execution_count": 37,
      "metadata": {
        "id": "CaDTghJPIuTa",
        "outputId": "80ea6209-68c9-42c7-9413-8d7f21fd7297"
      },
      "outputs": [
        {
          "name": "stdout",
          "output_type": "stream",
          "text": [
            "0 : Training loss 5.01888370513916 && Training Acc is 0.35277917981147766 || Val loss 4.073428630828857 && Val Acc is 0.35060060024261475\n",
            "250 : Training loss 0.4529881477355957 && Training Acc is 0.7811717391014099 || Val loss 0.4732912480831146 && Val Acc is 0.7740240097045898\n",
            "500 : Training loss 0.4204115867614746 && Training Acc is 0.8075446486473083 || Val loss 0.44842529296875 && Val Acc is 0.7852852940559387\n",
            "750 : Training loss 0.38956379890441895 && Training Acc is 0.8277416229248047 || Val loss 0.42732569575309753 && Val Acc is 0.804804801940918\n",
            "1000 : Training loss 0.3634134829044342 && Training Acc is 0.842764139175415 || Val loss 0.4097132980823517 && Val Acc is 0.8175675868988037\n",
            "1250 : Training loss 0.3478729724884033 && Training Acc is 0.8509430885314941 || Val loss 0.40282493829727173 && Val Acc is 0.8235735893249512\n",
            "1500 : Training loss 0.3374093472957611 && Training Acc is 0.8563678860664368 || Val loss 0.4010724723339081 && Val Acc is 0.8333333134651184\n",
            "1750 : Training loss 0.32910147309303284 && Training Acc is 0.8608746528625488 || Val loss 0.40113481879234314 && Val Acc is 0.8355855941772461\n",
            "2000 : Training loss 0.3217787742614746 && Training Acc is 0.864713728427887 || Val loss 0.46612176299095154 && Val Acc is 0.8355855941772461\n"
          ]
        }
      ],
      "source": [
        "model_3 = ClassificationModel(10, 128, 512, 1)\n",
        "loss_fn = nn.BCELoss()\n",
        "optimizer = torch.optim.Adam(model_3.parameters(), lr=1e-4)\n",
        "acc_data_train_3, acc_data_val_3, loss_data_train_3, loss_data_val_3 = train_eval_model(model_3, 2000, optimizer, loss_fn, X_train, X_val, y_train.reshape(-1, 1), y_val.reshape(-1, 1))"
      ]
    },
    {
      "cell_type": "code",
      "execution_count": 103,
      "metadata": {
        "id": "FSVG1pbgIuTa"
      },
      "outputs": [],
      "source": [
        "def plot_acc_loss(acc_data_train, acc_data_val, loss_data_train, loss_data_val):\n",
        "    x_axis = range(0, EPOCHS+1)\n",
        "    fig, axs = plt.subplots(1, 2, figsize=[18, 5])\n",
        "    \n",
        "    axs[0].plot(x_axis, acc_data_train, '--', color=\"r\",  label=\"Training score\")\n",
        "    axs[0].plot(x_axis, acc_data_val, color=\"b\", label=\"Cross-validation score\")\n",
        "    axs[0].set_title(\"Accuracy Curve\")\n",
        "    axs[0].set_xlabel(\"Training Set Size\")\n",
        "    axs[0].set_ylabel(\"Accuracy Score\"), plt.legend(loc=\"best\")\n",
        "    axs[0].legend()\n",
        "    \n",
        "    axs[1].plot(x_axis, loss_data_train, '--', color=\"r\",  label=\"Training loss\")\n",
        "    axs[1].plot(x_axis, loss_data_val, color=\"b\", label=\"Cross-validation loss\")\n",
        "    axs[1].set_title(\"Loss Curve\")\n",
        "    axs[1].set_xlabel(\"Training Set Size\")\n",
        "    axs[1].set_ylabel(\"Loss Score\"), plt.legend(loc=\"best\")\n",
        "    axs[1].legend()\n",
        "    plt.show()"
      ]
    },
    {
      "cell_type": "code",
      "execution_count": 104,
      "metadata": {
        "id": "cmxNNpr8IuTa",
        "outputId": "190932dd-13bd-4dd9-bc6f-9080f156aa10"
      },
      "outputs": [
        {
          "name": "stderr",
          "output_type": "stream",
          "text": [
            "No handles with labels found to put in legend.\n"
          ]
        },
        {
          "data": {
            "image/png": "[encoded data removed]",
            "text/plain": [
              "<Figure size 1296x360 with 2 Axes>"
            ]
          },
          "metadata": {
            "needs_background": "light"
          },
          "output_type": "display_data"
        }
      ],
      "source": [
        "plot_acc_loss(acc_data_train_1, acc_data_val_1, loss_data_train_1, loss_data_val_1)"
      ]
    },
    {
      "cell_type": "code",
      "execution_count": 45,
      "metadata": {
        "id": "gmF4e8OVIuTa",
        "outputId": "7622338b-709f-47aa-db7f-c2cc921cbfd6"
      },
      "outputs": [
        {
          "name": "stderr",
          "output_type": "stream",
          "text": [
            "No handles with labels found to put in legend.\n"
          ]
        },
        {
          "data": {
            "image/png": "[encoded data removed]",
            "text/plain": [
              "<Figure size 1296x360 with 2 Axes>"
            ]
          },
          "metadata": {
            "needs_background": "light"
          },
          "output_type": "display_data"
        }
      ],
      "source": [
        "plot_acc_loss(acc_data_train_2, acc_data_val_2, loss_data_train_2, loss_data_val_2)"
      ]
    },
    {
      "cell_type": "code",
      "execution_count": 46,
      "metadata": {
        "id": "kPctFe3DIuTb",
        "outputId": "6dd0afbb-5d87-4645-9c69-274165ed782f"
      },
      "outputs": [
        {
          "name": "stderr",
          "output_type": "stream",
          "text": [
            "No handles with labels found to put in legend.\n"
          ]
        },
        {
          "data": {
            "image/png": "[encoded data removed]",
            "text/plain": [
              "<Figure size 1296x360 with 2 Axes>"
            ]
          },
          "metadata": {
            "needs_background": "light"
          },
          "output_type": "display_data"
        }
      ],
      "source": [
        "plot_acc_loss(acc_data_train_3, acc_data_val_3, loss_data_train_3, loss_data_val_3)"
      ]
    },
    {
      "cell_type": "code",
      "execution_count": 47,
      "metadata": {
        "id": "FqH1UfaUIuTb"
      },
      "outputs": [],
      "source": [
        "def evalute_test(model, X_test, y_test):\n",
        "    model.eval()\n",
        "    y_pred_test = model(X_test)\n",
        "    cond = y_pred_test >= 0.5\n",
        "    y_pred_test = torch.where(cond, 1, 0)\n",
        "    train_acc = torch.sum(y_pred_test == y_test) / len(y_test)\n",
        "    print(f\"Model Acc. on Test Data {train_acc}\")"
      ]
    },
    {
      "cell_type": "code",
      "execution_count": 48,
      "metadata": {
        "id": "TPWOie-9IuTb",
        "outputId": "df371f07-4979-4b81-f9bd-c89540918985"
      },
      "outputs": [
        {
          "name": "stdout",
          "output_type": "stream",
          "text": [
            "Model Acc. on Test Data 0.8056432008743286\n",
            "Model Acc. on Test Data 0.8280757069587708\n",
            "Model Acc. on Test Data 0.8363126516342163\n"
          ]
        }
      ],
      "source": [
        "evalute_test(model_1, X_test, y_test.reshape(-1, 1))\n",
        "evalute_test(model_2, X_test, y_test.reshape(-1, 1))\n",
        "evalute_test(model_3, X_test, y_test.reshape(-1, 1))"
      ]
    },
    {
      "cell_type": "code",
      "execution_count": 81,
      "metadata": {},
      "outputs": [],
      "source": [
        "y_list = torch.chunk(y_train_val, 10)\n",
        "x_list = torch.chunk(X_train_val, 10)"
      ]
    },
    {
      "cell_type": "code",
      "execution_count": 83,
      "metadata": {},
      "outputs": [
        {
          "data": {
            "text/plain": [
              "torch.Size([1332, 10])"
            ]
          },
          "execution_count": 83,
          "metadata": {},
          "output_type": "execute_result"
        }
      ],
      "source": [
        "x_list[0].shape"
      ]
    },
    {
      "cell_type": "code",
      "execution_count": 87,
      "metadata": {},
      "outputs": [],
      "source": [
        "def get_val_train(data, ind):\n",
        "    val = data[ind]\n",
        "    train = torch.Tensor()\n",
        "    for i in range(len(data)):\n",
        "        if i != ind:\n",
        "            train = torch.cat((train, data[i]), dim=0)\n",
        "\n",
        "    return train, val"
      ]
    },
    {
      "cell_type": "code",
      "execution_count": 57,
      "metadata": {},
      "outputs": [],
      "source": [
        "param = [\n",
        "    [16, 32],\n",
        "    [32, 64],\n",
        "    [64, 128],\n",
        "    [128, 256],\n",
        "    [256, 512],\n",
        "]"
      ]
    },
    {
      "cell_type": "code",
      "execution_count": 105,
      "metadata": {
        "id": "ydWnbV5uIuTb"
      },
      "outputs": [],
      "source": [
        "def kfold(param, x_list, y_list, k):\n",
        "    best_loss_val = 0\n",
        "    best_acc_val = 0\n",
        "    best_acc_train = 0\n",
        "    best_loss_train = 0\n",
        "    best_model = None\n",
        "    for p in param:\n",
        "        model =  ClassificationModel(10, p[0], p[1], 1)\n",
        "        loss_fn = nn.BCELoss()\n",
        "        optimizer = torch.optim.Adam(model.parameters(), lr=1e-5)\n",
        "        total_loss_val = 0\n",
        "        total_loss_train = 0\n",
        "        total_acc_val = 0\n",
        "        total_acc_train = 0\n",
        "        for i in range(k):\n",
        "            x_t, x_v = get_val_train(x_list, i)\n",
        "            y_t, y_v = get_val_train(y_list, i)\n",
        "            acc_data_train, acc_data_val, loss_data_train, loss_data_val = train_eval_model(model, 2000, optimizer, loss_fn, x_t, x_v, y_t.reshape(-1, 1), y_v.reshape(-1, 1), cross_val=True)\n",
        "            total_loss_train += np.sum(loss_data_train, axis=0) / x_t.size()\n",
        "            total_loss_val += np.sum(loss_data_val, axis=0) / x_t.size()\n",
        "            total_acc_train += np.sum(acc_data_train, axis=0) / x_t.size()\n",
        "            total_acc_val += np.sum(acc_data_val, axis=0) / x_t.size()\n",
        "        print(f'Using {p[0]},{p[1]} Training loss {total_loss_train / k} && Training Acc is {total_acc_val / k} || Val loss {total_loss_val / k} && Val Acc is {total_acc_val / k}')\n",
        "        print(total_loss_val, best_loss_val)\n",
        "        if best_loss_val < total_loss_val / k:\n",
        "            best_model = model\n",
        "            best_loss_val = total_loss_val / k\n",
        "            best_acc_val = total_acc_val / k\n",
        "            best_loss_train = total_loss_train / k\n",
        "            best_acc_train = total_acc_train / k\n",
        "    return best_model, best_acc_train, best_loss_train, best_acc_val, best_loss_val\n",
        "\n",
        "\n",
        "        \n",
        "\n"
      ]
    },
    {
      "cell_type": "code",
      "execution_count": 106,
      "metadata": {},
      "outputs": [
        {
          "name": "stdout",
          "output_type": "stream",
          "text": [
            "(2001,)\n",
            "1746.8353\n"
          ]
        }
      ],
      "source": [
        "bestm, best_acc_train, best_loss_train, best_acc_val, best_loss_val = kfold(param, x_list, y_list, 10)"
      ]
    },
    {
      "cell_type": "code",
      "execution_count": null,
      "metadata": {},
      "outputs": [],
      "source": [
        "evalute_test(bestm, X_test, y_test.reshape(-1, 1))"
      ]
    },
    {
      "cell_type": "code",
      "execution_count": null,
      "metadata": {},
      "outputs": [],
      "source": []
    },
    {
      "cell_type": "markdown",
      "metadata": {
        "id": "S7bjTUVWIuTb"
      },
      "source": [
        "### Scaling Data"
      ]
    },
    {
      "cell_type": "code",
      "execution_count": null,
      "metadata": {
        "id": "sB0l5OzsIuTc"
      },
      "outputs": [],
      "source": []
    },
    {
      "cell_type": "code",
      "execution_count": null,
      "metadata": {
        "id": "kjpzUjN8IuTc"
      },
      "outputs": [],
      "source": []
    }
  ],
  "metadata": {
    "colab": {
      "name": "model.ipynb",
      "provenance": []
    },
    "interpreter": {
      "hash": "c20b7c458658bee694630567ba3e0a0589b3365f748196e154460478b4d51f10"
    },
    "kernelspec": {
      "display_name": "Python 3.9.7 ('base')",
      "language": "python",
      "name": "python3"
    },
    "language_info": {
      "codemirror_mode": {
        "name": "ipython",
        "version": 3
      },
      "file_extension": ".py",
      "mimetype": "text/x-python",
      "name": "python",
      "nbconvert_exporter": "python",
      "pygments_lexer": "ipython3",
      "version": "3.9.7"
    },
    "orig_nbformat": 4
  },
  "nbformat": 4,
  "nbformat_minor": 0
}
