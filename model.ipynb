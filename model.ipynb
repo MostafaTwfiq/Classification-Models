{
 "cells": [
  {
   "cell_type": "code",
   "execution_count": 51,
   "metadata": {},
   "outputs": [],
   "source": [
    "import numpy as np\n",
    "import pandas as pd\n",
    "import sklearn\n",
    "from imblearn.under_sampling import RandomUnderSampler\n",
    "from sklearn.model_selection import train_test_split\n",
    "import matplotlib.pyplot as plt\n"
   ]
  },
  {
   "cell_type": "markdown",
   "metadata": {},
   "source": [
    "## 0. Loading DataSet"
   ]
  },
  {
   "cell_type": "code",
   "execution_count": 2,
   "metadata": {},
   "outputs": [],
   "source": [
    "data_set = np.genfromtxt('magic04.data', delimiter=',', dtype=str) # Data is in the form of array of tuples\n",
    "labels = data_set[:, len(data_set[0]) - 1:len(data_set[0])]"
   ]
  },
  {
   "cell_type": "markdown",
   "metadata": {},
   "source": [
    "# 1. Data Balancing"
   ]
  },
  {
   "cell_type": "code",
   "execution_count": 3,
   "metadata": {},
   "outputs": [],
   "source": [
    "under_sampler = RandomUnderSampler()\n",
    "sampled_data, sampled_labels = under_sampler.fit_resample(data_set, labels)"
   ]
  },
  {
   "cell_type": "code",
   "execution_count": 4,
   "metadata": {},
   "outputs": [
    {
     "name": "stdout",
     "output_type": "stream",
     "text": [
      "{'g': 12332, 'h': 6688}\n",
      "{'g': 6688, 'h': 6688}\n"
     ]
    }
   ],
   "source": [
    "unique, counts = np.unique(labels, return_counts=True)\n",
    "print(dict(zip(unique, counts)))\n",
    "unique, counts = np.unique(sampled_labels, return_counts=True)\n",
    "print(dict(zip(unique, counts)))"
   ]
  },
  {
   "cell_type": "markdown",
   "metadata": {},
   "source": [
    "# 2. Data Split\n"
   ]
  },
  {
   "cell_type": "code",
   "execution_count": 5,
   "metadata": {},
   "outputs": [],
   "source": [
    "training_data_set, testing_data_set = train_test_split(data_set, test_size=0.3)"
   ]
  },
  {
   "cell_type": "code",
   "execution_count": 6,
   "metadata": {},
   "outputs": [],
   "source": [
    "training_data = np.array(training_data_set[:, 0:len(training_data_set[0]) - 1]).astype(np.float64)\n",
    "training_labels = training_data_set[:, len(training_data_set[0]) - 1:len(training_data_set[0])]\n",
    "training_labels = np.reshape(training_labels, len(training_labels))"
   ]
  },
  {
   "cell_type": "code",
   "execution_count": 7,
   "metadata": {},
   "outputs": [],
   "source": [
    "testing_data = np.array(testing_data_set[:, 0:len(testing_data_set[0]) - 1]).astype(np.float64)\n",
    "testing_labels = testing_data_set[:, len(testing_data_set[0]) - 1:len(testing_data_set[0])]\n",
    "testing_labels = np.reshape(testing_labels, len(testing_labels))"
   ]
  },
  {
   "cell_type": "markdown",
   "metadata": {},
   "source": [
    "# 3. Classification"
   ]
  },
  {
   "cell_type": "code",
   "execution_count": 8,
   "metadata": {},
   "outputs": [],
   "source": [
    "from sklearn.metrics import accuracy_score\n",
    "from sklearn.metrics import precision_score\n",
    "from sklearn.metrics import recall_score\n",
    "from sklearn.metrics import f1_score\n",
    "\n",
    "from sklearn import tree\n",
    "from sklearn.naive_bayes import GaussianNB\n",
    "from sklearn.neighbors import KNeighborsClassifier\n",
    "from sklearn.ensemble import AdaBoostClassifier\n",
    "from sklearn.ensemble import RandomForestClassifier"
   ]
  },
  {
   "cell_type": "markdown",
   "metadata": {},
   "source": [
    "### (a) Decision Tree"
   ]
  },
  {
   "cell_type": "code",
   "execution_count": 9,
   "metadata": {},
   "outputs": [],
   "source": [
    "def decision_tree(tr_data, tr_labels, tst_data):\n",
    "    decision_tree = tree.DecisionTreeClassifier()\n",
    "    decision_tree_pred = decision_tree.fit(tr_data, tr_labels).predict(tst_data)\n",
    "    return decision_tree_pred"
   ]
  },
  {
   "cell_type": "markdown",
   "metadata": {},
   "source": [
    "### (b) AdaBoost"
   ]
  },
  {
   "cell_type": "code",
   "execution_count": 10,
   "metadata": {},
   "outputs": [],
   "source": [
    "def ada_boost(tr_data, tr_labels, tst_data, n_estimators):\n",
    "    ada_boost = AdaBoostClassifier(n_estimators=n_estimators)\n",
    "    ada_boost_pred = ada_boost.fit(tr_data, tr_labels).predict(tst_data)\n",
    "    return ada_boost_pred\n",
    "    "
   ]
  },
  {
   "cell_type": "markdown",
   "metadata": {},
   "source": [
    "### (c) K-Nearest Neighbors (K-NN)"
   ]
  },
  {
   "cell_type": "code",
   "execution_count": 11,
   "metadata": {},
   "outputs": [],
   "source": [
    "def knn(tr_data, tr_labels, tst_data, k_neighb = 3):\n",
    "    neigh = KNeighborsClassifier(n_neighbors=k_neighb)\n",
    "    knn_pred = neigh.fit(tr_data, tr_labels).predict(tst_data)\n",
    "    return knn_pred"
   ]
  },
  {
   "cell_type": "markdown",
   "metadata": {},
   "source": [
    "### (d) Random Forests\n"
   ]
  },
  {
   "cell_type": "code",
   "execution_count": 12,
   "metadata": {},
   "outputs": [],
   "source": [
    "def random_forests(tr_data, tr_labels, tst_data, n_estimators):\n",
    "    random_forests = RandomForestClassifier(n_estimators=n_estimators)\n",
    "    random_forests_pred = random_forests.fit(tr_data, tr_labels).predict(tst_data)\n",
    "    return random_forests_pred\n",
    "    "
   ]
  },
  {
   "cell_type": "markdown",
   "metadata": {},
   "source": [
    "### (e) Na¨ıve Bayes\n"
   ]
  },
  {
   "cell_type": "code",
   "execution_count": 13,
   "metadata": {},
   "outputs": [],
   "source": [
    "def naive_bayes(tr_data, tr_labels, tst_data):\n",
    "    gnb = GaussianNB()\n",
    "    naive_bayes_pred = gnb.fit(tr_data, tr_labels).predict(tst_data)\n",
    "    return naive_bayes_pred"
   ]
  },
  {
   "cell_type": "markdown",
   "metadata": {},
   "source": [
    "# 4. Model Parameter Tuning\n"
   ]
  },
  {
   "cell_type": "code",
   "execution_count": 14,
   "metadata": {},
   "outputs": [
    {
     "name": "stdout",
     "output_type": "stream",
     "text": [
      "Decision tree accuracy:  82.05397826848932 %\n"
     ]
    },
    {
     "data": {
      "text/plain": [
       "0.8201452868357041"
      ]
     },
     "execution_count": 14,
     "metadata": {},
     "output_type": "execute_result"
    }
   ],
   "source": [
    "decision_tree_pred = decision_tree(training_data, training_labels, testing_data)\n",
    "print(\"Decision tree accuracy: \", accuracy_score(testing_labels, decision_tree_pred) * 100, \"%\")\n",
    "precision_score(testing_labels, decision_tree_pred, average='weighted')\n",
    "recall_score(testing_labels, decision_tree_pred, average='weighted')\n",
    "f1_score(testing_labels, decision_tree_pred, average='weighted')"
   ]
  },
  {
   "cell_type": "code",
   "execution_count": 15,
   "metadata": {},
   "outputs": [
    {
     "name": "stdout",
     "output_type": "stream",
     "text": [
      "Na¨ıve bayes accuracy:  73.20364528566421 %\n"
     ]
    },
    {
     "data": {
      "text/plain": [
       "0.7045160711435898"
      ]
     },
     "execution_count": 15,
     "metadata": {},
     "output_type": "execute_result"
    }
   ],
   "source": [
    "naive_bayes_pred = naive_bayes(training_data, training_labels, testing_data)\n",
    "print(\"Na¨ıve bayes accuracy: \", accuracy_score(testing_labels, naive_bayes_pred) * 100, \"%\")\n",
    "precision_score(testing_labels, naive_bayes_pred, average='weighted')\n",
    "recall_score(testing_labels, naive_bayes_pred, average='weighted')\n",
    "f1_score(testing_labels, naive_bayes_pred, average='weighted')"
   ]
  },
  {
   "cell_type": "code",
   "execution_count": 16,
   "metadata": {},
   "outputs": [
    {
     "name": "stdout",
     "output_type": "stream",
     "text": [
      "1-NN accuracy:  78.00560813179109 %\n",
      "2-NN accuracy:  78.51384507535927 %\n",
      "3-NN accuracy:  79.81072555205047 %\n",
      "4-NN accuracy:  79.72309849281459 %\n",
      "5-NN accuracy:  80.37153873116019 %\n",
      "6-NN accuracy:  80.26638626007711 %\n",
      "7-NN accuracy:  80.56431826147914 %\n",
      "8-NN accuracy:  80.42411496670172 %\n",
      "9-NN accuracy:  81.17770767613038 %\n",
      "10-NN accuracy:  80.87977567472836 %\n",
      "11-NN accuracy:  80.96740273396425 %\n",
      "12-NN accuracy:  80.58184367332632 %\n",
      "13-NN accuracy:  80.91482649842271 %\n",
      "14-NN accuracy:  80.77462320364529 %\n",
      "15-NN accuracy:  81.03750438135296 %\n",
      "16-NN accuracy:  80.65194532071503 %\n",
      "17-NN accuracy:  80.98492814581142 %\n",
      "18-NN accuracy:  80.94987732211708 %\n",
      "19-NN accuracy:  80.91482649842271 %\n",
      "20-NN accuracy:  80.70452155625657 %\n"
     ]
    }
   ],
   "source": [
    "k_neighb = [1, 2, 3, 4, 5, 6, 7, 8, 9, 10, 11, 12, 13, 14, 15, 16, 17, 18, 19, 20]\n",
    "for k in k_neighb:\n",
    "    knn_pred = knn(training_data, training_labels, testing_data, k)\n",
    "    print(str(k) + \"-NN accuracy: \", accuracy_score(testing_labels, knn_pred) * 100, \"%\")\n",
    "    precision_score(testing_labels, knn_pred, average='weighted')\n",
    "    recall_score(testing_labels, knn_pred, average='weighted')\n",
    "    f1_score(testing_labels, knn_pred, average='weighted')"
   ]
  },
  {
   "cell_type": "code",
   "execution_count": 17,
   "metadata": {},
   "outputs": [
    {
     "name": "stdout",
     "output_type": "stream",
     "text": [
      "90_estimators AdaBoost accuracy:  84.59516298633018 %\n",
      "91_estimators AdaBoost accuracy:  84.71784086926043 %\n",
      "92_estimators AdaBoost accuracy:  84.68279004556607 %\n",
      "93_estimators AdaBoost accuracy:  84.71784086926043 %\n",
      "94_estimators AdaBoost accuracy:  84.7353662811076 %\n",
      "95_estimators AdaBoost accuracy:  84.70031545741324 %\n",
      "96_estimators AdaBoost accuracy:  84.7353662811076 %\n",
      "97_estimators AdaBoost accuracy:  84.70031545741324 %\n",
      "98_estimators AdaBoost accuracy:  84.68279004556607 %\n",
      "99_estimators AdaBoost accuracy:  84.68279004556607 %\n",
      "100_estimators AdaBoost accuracy:  84.70031545741324 %\n"
     ]
    }
   ],
   "source": [
    "n_estimators = [90, 91, 92, 93, 94, 95, 96, 97, 98, 99, 100]\n",
    "for n in n_estimators:\n",
    "    ada_boost_pred = ada_boost(training_data, training_labels, testing_data, n)\n",
    "    print(str(n) + \"_estimators AdaBoost accuracy: \", accuracy_score(testing_labels, ada_boost_pred) * 100, \"%\")\n",
    "    precision_score(testing_labels, ada_boost_pred, average='weighted')\n",
    "    recall_score(testing_labels, ada_boost_pred, average='weighted')\n",
    "    f1_score(testing_labels, ada_boost_pred, average='weighted')"
   ]
  },
  {
   "cell_type": "code",
   "execution_count": 18,
   "metadata": {},
   "outputs": [
    {
     "name": "stdout",
     "output_type": "stream",
     "text": [
      "90_estimators random forests accuracy:  87.6621100595864 %\n",
      "91_estimators random forests accuracy:  87.7497371188223 %\n",
      "92_estimators random forests accuracy:  87.80231335436383 %\n",
      "93_estimators random forests accuracy:  87.53943217665615 %\n",
      "94_estimators random forests accuracy:  87.7497371188223 %\n",
      "95_estimators random forests accuracy:  87.73221170697512 %\n",
      "96_estimators random forests accuracy:  87.85488958990535 %\n",
      "97_estimators random forests accuracy:  87.4167542937259 %\n",
      "98_estimators random forests accuracy:  87.7497371188223 %\n",
      "99_estimators random forests accuracy:  87.83736417805818 %\n",
      "100_estimators random forests accuracy:  87.62705923589205 %\n"
     ]
    }
   ],
   "source": [
    "n_estimators = [90, 91, 92, 93, 94, 95, 96, 97, 98, 99, 100]\n",
    "for n in n_estimators:\n",
    "    random_forests_pred = random_forests(training_data, training_labels, testing_data, n)\n",
    "    print(str(n) + \"_estimators random forests accuracy: \", accuracy_score(testing_labels, random_forests_pred) * 100, \"%\")\n",
    "    precision_score(testing_labels, random_forests_pred, average='weighted')\n",
    "    recall_score(testing_labels, random_forests_pred, average='weighted')\n",
    "    f1_score(testing_labels, random_forests_pred, average='weighted')"
   ]
  },
  {
   "cell_type": "markdown",
   "metadata": {},
   "source": [
    "# 5. Report Requirements"
   ]
  },
  {
   "cell_type": "code",
   "execution_count": null,
   "metadata": {},
   "outputs": [],
   "source": []
  },
  {
   "cell_type": "code",
   "execution_count": null,
   "metadata": {},
   "outputs": [],
   "source": []
  },
  {
   "cell_type": "markdown",
   "metadata": {},
   "source": [
    "# 6. Bonus"
   ]
  },
  {
   "cell_type": "code",
   "execution_count": 19,
   "metadata": {},
   "outputs": [],
   "source": [
    "import torch\n",
    "import torch.nn as nn\n",
    "import torch.nn.functional as F\n",
    "from sklearn import preprocessing"
   ]
  },
  {
   "cell_type": "code",
   "execution_count": 52,
   "metadata": {},
   "outputs": [],
   "source": [
    "EPOCHS = 2000"
   ]
  },
  {
   "cell_type": "code",
   "execution_count": 20,
   "metadata": {},
   "outputs": [],
   "source": [
    "le = preprocessing.LabelEncoder()\n",
    "training_encoded_labels = le.fit_transform(training_labels)\n",
    "testing_encoded_labels = le.fit_transform(testing_labels)"
   ]
  },
  {
   "cell_type": "code",
   "execution_count": 21,
   "metadata": {},
   "outputs": [
    {
     "name": "stdout",
     "output_type": "stream",
     "text": [
      "Training Data Shape (13314, 10)\n",
      "Training Label Shape (13314,)\n"
     ]
    }
   ],
   "source": [
    "print(f'Training Data Shape {training_data.shape}')\n",
    "print(f'Training Label Shape {training_encoded_labels.shape}')"
   ]
  },
  {
   "cell_type": "code",
   "execution_count": 22,
   "metadata": {},
   "outputs": [
    {
     "name": "stdout",
     "output_type": "stream",
     "text": [
      "Training Data  [ 18.8834  10.09     2.444    0.5935   0.3327 -22.8136 -10.8397   4.4965\n",
      "  57.86   197.527 ]\n",
      "Training Label 0\n"
     ]
    }
   ],
   "source": [
    "print(f'Training Data  {training_data[0]}')\n",
    "print(f'Training Label {training_encoded_labels[0]}')"
   ]
  },
  {
   "cell_type": "code",
   "execution_count": 23,
   "metadata": {},
   "outputs": [],
   "source": [
    "X_train_val = torch.from_numpy(training_data).float()\n",
    "X_test = torch.from_numpy(testing_data).float()\n",
    "y_train_val = torch.from_numpy(training_encoded_labels).float()\n",
    "y_test = torch.from_numpy(testing_encoded_labels).float()"
   ]
  },
  {
   "cell_type": "code",
   "execution_count": 24,
   "metadata": {},
   "outputs": [
    {
     "name": "stdout",
     "output_type": "stream",
     "text": [
      "torch.Size([13314, 10])\n",
      "torch.Size([5706, 10])\n"
     ]
    }
   ],
   "source": [
    "print(X_train_val.shape)\n",
    "print(X_test.shape)"
   ]
  },
  {
   "cell_type": "code",
   "execution_count": 25,
   "metadata": {},
   "outputs": [],
   "source": [
    "X_train, X_val, y_train, y_val = train_test_split(X_train_val, y_train_val, test_size=0.1, random_state=42) "
   ]
  },
  {
   "cell_type": "code",
   "execution_count": 26,
   "metadata": {},
   "outputs": [
    {
     "name": "stdout",
     "output_type": "stream",
     "text": [
      "torch.Size([11982, 10])\n",
      "torch.Size([1332, 10])\n",
      "torch.Size([5706, 10])\n"
     ]
    }
   ],
   "source": [
    "print(X_train.shape)\n",
    "print(X_val.shape)\n",
    "print(X_test.shape)"
   ]
  },
  {
   "cell_type": "code",
   "execution_count": 55,
   "metadata": {},
   "outputs": [],
   "source": [
    "class ClassificationModel(nn.Module):\n",
    "    def __init__(self, input_layer, hidden_layer_1, hidden_layer_2, output_layer):\n",
    "        super(ClassificationModel, self).__init__()\n",
    "        self.l1 = nn.Linear(input_layer, hidden_layer_1)\n",
    "        self.l2 = nn.Linear(hidden_layer_1, hidden_layer_2)\n",
    "        self.out = nn.Linear(hidden_layer_2, output_layer)\n",
    " \n",
    "    def forward(self, data):\n",
    "        x = self.l1(data)\n",
    "        x = torch.relu(x)\n",
    "        x = self.l2(x)\n",
    "        x = torch.relu(x)\n",
    "        x = self.out(x)\n",
    "        return torch.sigmoid(x)\n",
    "     \n"
   ]
  },
  {
   "cell_type": "code",
   "execution_count": 114,
   "metadata": {},
   "outputs": [],
   "source": [
    "\n",
    "def train_val_model(model, epochs, optimizer, loss_fn, X_train, X_val, y_train, y_val):\n",
    "    acc_data_val = []\n",
    "    acc_data_train = []\n",
    "    loss_data_val = []\n",
    "    loss_data_train = []\n",
    "\n",
    "    for epoch in range(EPOCHS+1):\n",
    "        optimizer.zero_grad()\n",
    "        model.train()\n",
    "        y_pred_train = model(X_train)\n",
    "        loss_train = loss_fn(y_pred_train, y_train)\n",
    "        loss_train.backward()\n",
    "        optimizer.step()\n",
    "\n",
    "        model.eval()\n",
    "        y_pred_val = model(X_val)\n",
    "        loss_val = loss_fn(y_pred_val, y_val)\n",
    "        condition = y_pred_val >= 0.5\n",
    "        y_pred_val = torch.where(condition, 1, 0)\n",
    "        val_acc = torch.sum(y_pred_val == y_val) / len(y_val)\n",
    "\n",
    "        condition = y_pred_train >= 0.5\n",
    "        y_pred_train = torch.where(condition, 1, 0)\n",
    "        train_acc = torch.sum(y_pred_train == y_train) / len(y_train)\n",
    "        if epoch % 250 == 0:\n",
    "            print(f'{epoch} : Training loss {loss_train} && Training Acc is {train_acc} || Test loss {loss_val} && Test Acc is {val_acc}')\n",
    "        acc_data_val.append(val_acc)\n",
    "        acc_data_train.append(train_acc)\n",
    "        loss_data_val.append(loss_val)\n",
    "        loss_data_train.append(loss_train)\n",
    "\n",
    "    return acc_data_train, acc_data_val, loss_data_train, loss_data_val\n",
    "            "
   ]
  },
  {
   "cell_type": "code",
   "execution_count": 109,
   "metadata": {},
   "outputs": [
    {
     "name": "stdout",
     "output_type": "stream",
     "text": [
      "0 : Training loss 3.7115747928619385 && Training Acc is 0.3567851781845093 || Test loss 3.9166388511657715 && Test Acc is 0.3288288414478302\n",
      "250 : Training loss 0.5859538912773132 && Training Acc is 0.685361385345459 || Test loss 0.565214216709137 && Test Acc is 0.6989489197731018\n",
      "500 : Training loss 0.5236989259719849 && Training Acc is 0.7258387804031372 || Test loss 0.4930504560470581 && Test Acc is 0.7492492198944092\n",
      "750 : Training loss 0.497311532497406 && Training Acc is 0.740444004535675 || Test loss 0.4650588035583496 && Test Acc is 0.7702702879905701\n",
      "1000 : Training loss 0.4740244448184967 && Training Acc is 0.7739108800888062 || Test loss 0.44215139746665955 && Test Acc is 0.8070570826530457\n",
      "1250 : Training loss 0.45784834027290344 && Training Acc is 0.7886829972267151 || Test loss 0.4252472519874573 && Test Acc is 0.8190690875053406\n",
      "1500 : Training loss 0.4458579421043396 && Training Acc is 0.7984476685523987 || Test loss 0.4143792688846588 && Test Acc is 0.8220720887184143\n",
      "1750 : Training loss 0.43385589122772217 && Training Acc is 0.8053747415542603 || Test loss 0.40213432908058167 && Test Acc is 0.8280780911445618\n",
      "2000 : Training loss 0.4198509752750397 && Training Acc is 0.8148890137672424 || Test loss 0.3887644410133362 && Test Acc is 0.8423423171043396\n"
     ]
    }
   ],
   "source": [
    "model_1 = ClassificationModel(10, 16, 32, 1)\n",
    "loss_fn = nn.BCELoss()\n",
    "optimizer = torch.optim.Adam(model_1.parameters(), lr=1e-4)\n",
    "acc_data_train_1, acc_data_val_1, loss_data_train_1, loss_data_val_1 = train_val_model(model_1, 2000, optimizer, loss_fn, X_train, X_val, y_train.reshape(-1, 1), y_val.reshape(-1, 1))"
   ]
  },
  {
   "cell_type": "code",
   "execution_count": 110,
   "metadata": {},
   "outputs": [
    {
     "name": "stdout",
     "output_type": "stream",
     "text": [
      "0 : Training loss 1.7460377216339111 && Training Acc is 0.6412118077278137 || Test loss 1.3868361711502075 && Test Acc is 0.6561561822891235\n",
      "250 : Training loss 0.47993940114974976 && Training Acc is 0.7598898410797119 || Test loss 0.45132917165756226 && Test Acc is 0.7867867946624756\n",
      "500 : Training loss 0.43858668208122253 && Training Acc is 0.7926055788993835 || Test loss 0.41370487213134766 && Test Acc is 0.8160660862922668\n",
      "750 : Training loss 0.41735294461250305 && Training Acc is 0.8107995390892029 || Test loss 0.39734193682670593 && Test Acc is 0.8280780911445618\n",
      "1000 : Training loss 0.4001939594745636 && Training Acc is 0.8216491341590881 || Test loss 0.38352692127227783 && Test Acc is 0.8348348140716553\n",
      "1250 : Training loss 0.38565701246261597 && Training Acc is 0.8303288221359253 || Test loss 0.37059441208839417 && Test Acc is 0.8453453183174133\n",
      "1500 : Training loss 0.3739928603172302 && Training Acc is 0.8347521424293518 || Test loss 0.36395692825317383 && Test Acc is 0.8468468189239502\n",
      "1750 : Training loss 0.3659818470478058 && Training Acc is 0.8385912179946899 || Test loss 0.36009666323661804 && Test Acc is 0.8483483195304871\n",
      "2000 : Training loss 0.359663724899292 && Training Acc is 0.8432648777961731 || Test loss 0.35858047008514404 && Test Acc is 0.8460960984230042\n"
     ]
    }
   ],
   "source": [
    "model_2 = ClassificationModel(10, 64, 128, 1)\n",
    "loss_fn = nn.BCELoss()\n",
    "optimizer = torch.optim.Adam(model_2.parameters(), lr=1e-4)\n",
    "acc_data_train_2, acc_data_val_2, loss_data_train_2, loss_data_val_2 = train_val_model(model_2, 2000, optimizer, loss_fn, X_train, X_val, y_train.reshape(-1, 1), y_val.reshape(-1, 1))"
   ]
  },
  {
   "cell_type": "code",
   "execution_count": 111,
   "metadata": {},
   "outputs": [
    {
     "name": "stdout",
     "output_type": "stream",
     "text": [
      "0 : Training loss 2.1583662033081055 && Training Acc is 0.6415456533432007 || Test loss 1.4102039337158203 && Test Acc is 0.6576576828956604\n",
      "250 : Training loss 0.4358345866203308 && Training Acc is 0.7954431772232056 || Test loss 0.4188663959503174 && Test Acc is 0.815315306186676\n",
      "500 : Training loss 0.4000551104545593 && Training Acc is 0.8203138113021851 || Test loss 0.39132368564605713 && Test Acc is 0.8310810923576355\n",
      "750 : Training loss 0.37460264563560486 && Training Acc is 0.8369220495223999 || Test loss 0.3741660714149475 && Test Acc is 0.8438438177108765\n",
      "1000 : Training loss 0.35470160841941833 && Training Acc is 0.8472709059715271 || Test loss 0.3639518618583679 && Test Acc is 0.8490990996360779\n",
      "1250 : Training loss 0.3405493497848511 && Training Acc is 0.8545318245887756 || Test loss 0.3583747148513794 && Test Acc is 0.8513513803482056\n",
      "1500 : Training loss 0.3299788236618042 && Training Acc is 0.8592054843902588 || Test loss 0.3590625822544098 && Test Acc is 0.8536036014556885\n",
      "1750 : Training loss 0.32125887274742126 && Training Acc is 0.8649641275405884 || Test loss 0.36159229278564453 && Test Acc is 0.8551051020622253\n",
      "2000 : Training loss 0.3132459819316864 && Training Acc is 0.869554340839386 || Test loss 0.36500832438468933 && Test Acc is 0.8558558821678162\n"
     ]
    }
   ],
   "source": [
    "model_3 = ClassificationModel(10, 128, 512, 1)\n",
    "loss_fn = nn.BCELoss()\n",
    "optimizer = torch.optim.Adam(model_3.parameters(), lr=1e-4)\n",
    "acc_data_train_3, acc_data_val_3, loss_data_train_3, loss_data_val_3 = train_val_model(model_3, 2000, optimizer, loss_fn, X_train, X_val, y_train.reshape(-1, 1), y_val.reshape(-1, 1))"
   ]
  },
  {
   "cell_type": "code",
   "execution_count": 113,
   "metadata": {},
   "outputs": [
    {
     "data": {
      "image/png": "[encoded data removed]",
      "text/plain": [
       "<Figure size 720x720 with 1 Axes>"
      ]
     },
     "metadata": {
      "needs_background": "light"
     },
     "output_type": "display_data"
    }
   ],
   "source": [
    "def plot_acc_loss(acc_data_train, acc_data_val, loss_data_train, loss_data_val):\n",
    "    x_axis = range(0, EPOCHS+1)\n",
    "    plt.subplot(1, 2, 1)\n",
    "    plt.subplots(1, figsize=(10,10))\n",
    "    plt.plot(x_axis, acc_data_train, '--', color=\"#111111\",  label=\"Training score\")\n",
    "    plt.plot(x_axis, acc_data_val, color=\"#111111\", label=\"Cross-validation score\")\n",
    "    plt.title(\"Learning Curve\")\n",
    "    plt.xlabel(\"Training Set Size\"), plt.ylabel(\"Accuracy Score\"), plt.legend(loc=\"best\")\n",
    "    plt.tight_layout()\n",
    "\n",
    "    plt.subplot(1, 2, 1)\n",
    "    plt.plot(x_axis, loss_data_train, '--', color=\"#111111\",  label=\"Training loss\")\n",
    "    plt.plot(x_axis, loss_data_val, color=\"#111111\", label=\"Cross-validation loss\")\n",
    "    plt.title(\"Learning Curve\")\n",
    "    plt.xlabel(\"Training Set Size\"), plt.ylabel(\"Loss Score\"), plt.legend(loc=\"best\")\n",
    "    plt.tight_layout()\n",
    "    plt.show()"
   ]
  },
  {
   "cell_type": "code",
   "execution_count": null,
   "metadata": {},
   "outputs": [],
   "source": [
    "def evalute_test(model, X_test, y_test):\n",
    "    model.eval()\n",
    "    y_pred_test = model(X_test)\n",
    "    cond = y_pred_test >= 0.5\n",
    "    y_pred_test = torch.where(cond, 1, 0)\n",
    "    train_acc = (torch.sum(y_pred_test == y_test) / len(y_test)).round(4)\n",
    "    print(f\"Model Acc. on Test Data {train_acc}\")"
   ]
  },
  {
   "cell_type": "code",
   "execution_count": null,
   "metadata": {},
   "outputs": [],
   "source": []
  },
  {
   "cell_type": "markdown",
   "metadata": {},
   "source": [
    "### Scaling Data"
   ]
  },
  {
   "cell_type": "code",
   "execution_count": null,
   "metadata": {},
   "outputs": [],
   "source": []
  },
  {
   "cell_type": "code",
   "execution_count": null,
   "metadata": {},
   "outputs": [],
   "source": []
  }
 ],
 "metadata": {
  "interpreter": {
   "hash": "c20b7c458658bee694630567ba3e0a0589b3365f748196e154460478b4d51f10"
  },
  "kernelspec": {
   "display_name": "Python 3.9.7 ('base')",
   "language": "python",
   "name": "python3"
  },
  "language_info": {
   "codemirror_mode": {
    "name": "ipython",
    "version": 3
   },
   "file_extension": ".py",
   "mimetype": "text/x-python",
   "name": "python",
   "nbconvert_exporter": "python",
   "pygments_lexer": "ipython3",
   "version": "3.9.7"
  },
  "orig_nbformat": 4
 },
 "nbformat": 4,
 "nbformat_minor": 2
}
