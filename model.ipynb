{
 "cells": [
  {
   "cell_type": "code",
   "execution_count": 1,
   "metadata": {},
   "outputs": [],
   "source": [
    "import numpy as np\n",
    "import pandas as pd\n",
    "import sklearn\n",
    "from imblearn.under_sampling import RandomUnderSampler\n",
    "from sklearn.model_selection import train_test_split\n",
    "import matplotlib.pyplot as plt\n"
   ]
  },
  {
   "cell_type": "markdown",
   "metadata": {},
   "source": [
    "## 0. Loading DataSet"
   ]
  },
  {
   "cell_type": "code",
   "execution_count": 2,
   "metadata": {},
   "outputs": [],
   "source": [
    "data_set = np.genfromtxt('Data\\magic04.data', delimiter=',', dtype=str) # Data is in the form of array of tuples\n",
    "labels = data_set[:, len(data_set[0]) - 1:len(data_set[0])]"
   ]
  },
  {
   "cell_type": "markdown",
   "metadata": {},
   "source": [
    "# 1. Data Balancing"
   ]
  },
  {
   "cell_type": "code",
   "execution_count": 3,
   "metadata": {},
   "outputs": [],
   "source": [
    "under_sampler = RandomUnderSampler()\n",
    "sampled_data, sampled_labels = under_sampler.fit_resample(data_set, labels)"
   ]
  },
  {
   "cell_type": "code",
   "execution_count": 4,
   "metadata": {},
   "outputs": [
    {
     "name": "stdout",
     "output_type": "stream",
     "text": [
      "{'g': 12332, 'h': 6688}\n",
      "{'g': 6688, 'h': 6688}\n"
     ]
    }
   ],
   "source": [
    "unique, counts = np.unique(labels, return_counts=True)\n",
    "print(dict(zip(unique, counts)))\n",
    "unique, counts = np.unique(sampled_labels, return_counts=True)\n",
    "print(dict(zip(unique, counts)))"
   ]
  },
  {
   "cell_type": "markdown",
   "metadata": {},
   "source": [
    "# 2. Data Split\n"
   ]
  },
  {
   "cell_type": "code",
   "execution_count": 5,
   "metadata": {},
   "outputs": [],
   "source": [
    "training_data_set, testing_data_set = train_test_split(data_set, test_size=0.3)"
   ]
  },
  {
   "cell_type": "code",
   "execution_count": 6,
   "metadata": {},
   "outputs": [],
   "source": [
    "training_data = np.array(training_data_set[:, 0:len(training_data_set[0]) - 1]).astype(np.float64)\n",
    "training_labels = training_data_set[:, len(training_data_set[0]) - 1:len(training_data_set[0])]\n",
    "training_labels = np.reshape(training_labels, len(training_labels))"
   ]
  },
  {
   "cell_type": "code",
   "execution_count": 7,
   "metadata": {},
   "outputs": [],
   "source": [
    "testing_data = np.array(testing_data_set[:, 0:len(testing_data_set[0]) - 1]).astype(np.float64)\n",
    "testing_labels = testing_data_set[:, len(testing_data_set[0]) - 1:len(testing_data_set[0])]\n",
    "testing_labels = np.reshape(testing_labels, len(testing_labels))"
   ]
  },
  {
   "cell_type": "markdown",
   "metadata": {},
   "source": [
    "# 3. Classification"
   ]
  },
  {
   "cell_type": "code",
   "execution_count": 8,
   "metadata": {},
   "outputs": [],
   "source": [
    "from sklearn.metrics import accuracy_score\n",
    "from sklearn.metrics import precision_score\n",
    "from sklearn.metrics import recall_score\n",
    "from sklearn.metrics import f1_score\n",
    "\n",
    "from sklearn import tree\n",
    "from sklearn.naive_bayes import GaussianNB\n",
    "from sklearn.neighbors import KNeighborsClassifier\n",
    "from sklearn.ensemble import AdaBoostClassifier\n",
    "from sklearn.ensemble import RandomForestClassifier"
   ]
  },
  {
   "cell_type": "markdown",
   "metadata": {},
   "source": [
    "### (a) Decision Tree"
   ]
  },
  {
   "cell_type": "code",
   "execution_count": 9,
   "metadata": {},
   "outputs": [],
   "source": [
    "def decision_tree(tr_data, tr_labels, tst_data):\n",
    "    decision_tree = tree.DecisionTreeClassifier()\n",
    "    decision_tree_pred = decision_tree.fit(tr_data, tr_labels).predict(tst_data)\n",
    "    return decision_tree_pred"
   ]
  },
  {
   "cell_type": "markdown",
   "metadata": {},
   "source": [
    "### (b) AdaBoost"
   ]
  },
  {
   "cell_type": "code",
   "execution_count": 10,
   "metadata": {},
   "outputs": [],
   "source": [
    "def ada_boost(tr_data, tr_labels, tst_data, n_estimators):\n",
    "    ada_boost = AdaBoostClassifier(n_estimators=n_estimators)\n",
    "    ada_boost_pred = ada_boost.fit(tr_data, tr_labels).predict(tst_data)\n",
    "    return ada_boost_pred\n",
    "    "
   ]
  },
  {
   "cell_type": "markdown",
   "metadata": {},
   "source": [
    "### (c) K-Nearest Neighbors (K-NN)"
   ]
  },
  {
   "cell_type": "code",
   "execution_count": 11,
   "metadata": {},
   "outputs": [],
   "source": [
    "def knn(tr_data, tr_labels, tst_data, k_neighb = 3):\n",
    "    neigh = KNeighborsClassifier(n_neighbors=k_neighb)\n",
    "    knn_pred = neigh.fit(tr_data, tr_labels).predict(tst_data)\n",
    "    return knn_pred"
   ]
  },
  {
   "cell_type": "markdown",
   "metadata": {},
   "source": [
    "### (d) Random Forests\n"
   ]
  },
  {
   "cell_type": "code",
   "execution_count": 12,
   "metadata": {},
   "outputs": [],
   "source": [
    "def random_forests(tr_data, tr_labels, tst_data, n_estimators):\n",
    "    random_forests = RandomForestClassifier(n_estimators=n_estimators)\n",
    "    random_forests_pred = random_forests.fit(tr_data, tr_labels).predict(tst_data)\n",
    "    return random_forests_pred\n",
    "    "
   ]
  },
  {
   "cell_type": "markdown",
   "metadata": {},
   "source": [
    "### (e) Na¨ıve Bayes\n"
   ]
  },
  {
   "cell_type": "code",
   "execution_count": 13,
   "metadata": {},
   "outputs": [],
   "source": [
    "def naive_bayes(tr_data, tr_labels, tst_data):\n",
    "    gnb = GaussianNB()\n",
    "    naive_bayes_pred = gnb.fit(tr_data, tr_labels).predict(tst_data)\n",
    "    return naive_bayes_pred"
   ]
  },
  {
   "cell_type": "markdown",
   "metadata": {},
   "source": [
    "# 4. Model Parameter Tuning\n"
   ]
  },
  {
   "cell_type": "code",
   "execution_count": 14,
   "metadata": {},
   "outputs": [
    {
     "name": "stdout",
     "output_type": "stream",
     "text": [
      "Decision tree accuracy:  81.30038555906064 %\n"
     ]
    },
    {
     "data": {
      "text/plain": [
       "0.8131722313229185"
      ]
     },
     "execution_count": 14,
     "metadata": {},
     "output_type": "execute_result"
    }
   ],
   "source": [
    "decision_tree_pred = decision_tree(training_data, training_labels, testing_data)\n",
    "print(\"Decision tree accuracy: \", accuracy_score(testing_labels, decision_tree_pred) * 100, \"%\")\n",
    "precision_score(testing_labels, decision_tree_pred, average='weighted')\n",
    "recall_score(testing_labels, decision_tree_pred, average='weighted')\n",
    "f1_score(testing_labels, decision_tree_pred, average='weighted')"
   ]
  },
  {
   "cell_type": "code",
   "execution_count": 15,
   "metadata": {},
   "outputs": [
    {
     "name": "stdout",
     "output_type": "stream",
     "text": [
      "Na¨ıve bayes accuracy:  72.94076410795654 %\n"
     ]
    },
    {
     "data": {
      "text/plain": [
       "0.705033498538294"
      ]
     },
     "execution_count": 15,
     "metadata": {},
     "output_type": "execute_result"
    }
   ],
   "source": [
    "naive_bayes_pred = naive_bayes(training_data, training_labels, testing_data)\n",
    "print(\"Na¨ıve bayes accuracy: \", accuracy_score(testing_labels, naive_bayes_pred) * 100, \"%\")\n",
    "precision_score(testing_labels, naive_bayes_pred, average='weighted')\n",
    "recall_score(testing_labels, naive_bayes_pred, average='weighted')\n",
    "f1_score(testing_labels, naive_bayes_pred, average='weighted')"
   ]
  },
  {
   "cell_type": "code",
   "execution_count": 16,
   "metadata": {},
   "outputs": [
    {
     "name": "stdout",
     "output_type": "stream",
     "text": [
      "1-NN accuracy:  78.30354013319312 %\n",
      "2-NN accuracy:  79.4602173151069 %\n",
      "3-NN accuracy:  80.28391167192429 %\n",
      "4-NN accuracy:  80.82719943918683 %\n",
      "5-NN accuracy:  81.4055380301437 %\n",
      "6-NN accuracy:  81.12513144058885 %\n",
      "7-NN accuracy:  81.4931650893796 %\n",
      "8-NN accuracy:  81.4055380301437 %\n",
      "9-NN accuracy:  81.61584297230985 %\n",
      "10-NN accuracy:  81.37048720644935 %\n",
      "11-NN accuracy:  81.38801261829653 %\n",
      "12-NN accuracy:  81.37048720644935 %\n",
      "13-NN accuracy:  81.47563967753241 %\n",
      "14-NN accuracy:  81.23028391167192 %\n",
      "15-NN accuracy:  81.47563967753241 %\n",
      "16-NN accuracy:  81.30038555906064 %\n",
      "17-NN accuracy:  81.66841920785139 %\n",
      "18-NN accuracy:  81.38801261829653 %\n",
      "19-NN accuracy:  81.52821591307395 %\n",
      "20-NN accuracy:  81.26533473536628 %\n"
     ]
    }
   ],
   "source": [
    "k_neighb = [1, 2, 3, 4, 5, 6, 7, 8, 9, 10, 11, 12, 13, 14, 15, 16, 17, 18, 19, 20]\n",
    "for k in k_neighb:\n",
    "    knn_pred = knn(training_data, training_labels, testing_data, k)\n",
    "    print(str(k) + \"-NN accuracy: \", accuracy_score(testing_labels, knn_pred) * 100, \"%\")\n",
    "    precision_score(testing_labels, knn_pred, average='weighted')\n",
    "    recall_score(testing_labels, knn_pred, average='weighted')\n",
    "    f1_score(testing_labels, knn_pred, average='weighted')"
   ]
  },
  {
   "cell_type": "code",
   "execution_count": 17,
   "metadata": {},
   "outputs": [
    {
     "name": "stdout",
     "output_type": "stream",
     "text": [
      "90_estimators AdaBoost accuracy:  83.85909568874868 %\n",
      "91_estimators AdaBoost accuracy:  84.10445145460919 %\n",
      "92_estimators AdaBoost accuracy:  84.086926042762 %\n",
      "93_estimators AdaBoost accuracy:  84.086926042762 %\n",
      "94_estimators AdaBoost accuracy:  84.05187521906765 %\n",
      "95_estimators AdaBoost accuracy:  84.15702769015073 %\n",
      "96_estimators AdaBoost accuracy:  84.13950227830354 %\n",
      "97_estimators AdaBoost accuracy:  84.12197686645636 %\n",
      "98_estimators AdaBoost accuracy:  84.10445145460919 %\n",
      "99_estimators AdaBoost accuracy:  84.29723098492815 %\n",
      "100_estimators AdaBoost accuracy:  84.29723098492815 %\n"
     ]
    }
   ],
   "source": [
    "n_estimators = [90, 91, 92, 93, 94, 95, 96, 97, 98, 99, 100]\n",
    "for n in n_estimators:\n",
    "    ada_boost_pred = ada_boost(training_data, training_labels, testing_data, n)\n",
    "    print(str(n) + \"_estimators AdaBoost accuracy: \", accuracy_score(testing_labels, ada_boost_pred) * 100, \"%\")\n",
    "    precision_score(testing_labels, ada_boost_pred, average='weighted')\n",
    "    recall_score(testing_labels, ada_boost_pred, average='weighted')\n",
    "    f1_score(testing_labels, ada_boost_pred, average='weighted')"
   ]
  },
  {
   "cell_type": "code",
   "execution_count": 18,
   "metadata": {},
   "outputs": [
    {
     "name": "stdout",
     "output_type": "stream",
     "text": [
      "90_estimators random forests accuracy:  88.17034700315457 %\n",
      "91_estimators random forests accuracy:  87.85488958990535 %\n",
      "92_estimators random forests accuracy:  88.03014370837715 %\n",
      "93_estimators random forests accuracy:  88.1528215913074 %\n",
      "94_estimators random forests accuracy:  87.99509288468279 %\n",
      "95_estimators random forests accuracy:  87.97756747283562 %\n",
      "96_estimators random forests accuracy:  88.11777076761304 %\n",
      "97_estimators random forests accuracy:  87.7497371188223 %\n",
      "98_estimators random forests accuracy:  88.20539782684892 %\n",
      "99_estimators random forests accuracy:  88.08271994391869 %\n",
      "100_estimators random forests accuracy:  88.11777076761304 %\n"
     ]
    }
   ],
   "source": [
    "n_estimators = [90, 91, 92, 93, 94, 95, 96, 97, 98, 99, 100]\n",
    "for n in n_estimators:\n",
    "    random_forests_pred = random_forests(training_data, training_labels, testing_data, n)\n",
    "    print(str(n) + \"_estimators random forests accuracy: \", accuracy_score(testing_labels, random_forests_pred) * 100, \"%\")\n",
    "    precision_score(testing_labels, random_forests_pred, average='weighted')\n",
    "    recall_score(testing_labels, random_forests_pred, average='weighted')\n",
    "    f1_score(testing_labels, random_forests_pred, average='weighted')"
   ]
  },
  {
   "cell_type": "markdown",
   "metadata": {},
   "source": [
    "# 5. Report Requirements"
   ]
  },
  {
   "cell_type": "code",
   "execution_count": null,
   "metadata": {},
   "outputs": [],
   "source": []
  },
  {
   "cell_type": "code",
   "execution_count": null,
   "metadata": {},
   "outputs": [],
   "source": []
  },
  {
   "cell_type": "markdown",
   "metadata": {},
   "source": [
    "# 6. Bonus"
   ]
  },
  {
   "cell_type": "code",
   "execution_count": 19,
   "metadata": {},
   "outputs": [],
   "source": [
    "import torch\n",
    "import torch.nn as nn\n",
    "import torch.nn.functional as F\n",
    "from sklearn import preprocessing"
   ]
  },
  {
   "cell_type": "code",
   "execution_count": 20,
   "metadata": {},
   "outputs": [],
   "source": [
    "EPOCHS = 2000"
   ]
  },
  {
   "cell_type": "code",
   "execution_count": 21,
   "metadata": {},
   "outputs": [],
   "source": [
    "le = preprocessing.LabelEncoder()\n",
    "training_encoded_labels = le.fit_transform(training_labels)\n",
    "testing_encoded_labels = le.fit_transform(testing_labels)"
   ]
  },
  {
   "cell_type": "code",
   "execution_count": 22,
   "metadata": {},
   "outputs": [
    {
     "name": "stdout",
     "output_type": "stream",
     "text": [
      "Training Data Shape (13314, 10)\n",
      "Training Label Shape (13314,)\n"
     ]
    }
   ],
   "source": [
    "print(f'Training Data Shape {training_data.shape}')\n",
    "print(f'Training Label Shape {training_encoded_labels.shape}')"
   ]
  },
  {
   "cell_type": "code",
   "execution_count": 23,
   "metadata": {},
   "outputs": [
    {
     "name": "stdout",
     "output_type": "stream",
     "text": [
      "Training Data  [ 34.3113  13.4401   2.5871   0.4347   0.2212   5.0547 -21.7933   6.1834\n",
      "  23.351  183.392 ]\n",
      "Training Label 0\n"
     ]
    }
   ],
   "source": [
    "print(f'Training Data  {training_data[0]}')\n",
    "print(f'Training Label {training_encoded_labels[0]}')"
   ]
  },
  {
   "cell_type": "code",
   "execution_count": 24,
   "metadata": {},
   "outputs": [],
   "source": [
    "X_train_val = torch.from_numpy(training_data).float()\n",
    "X_test = torch.from_numpy(testing_data).float()\n",
    "y_train_val = torch.from_numpy(training_encoded_labels).float()\n",
    "y_test = torch.from_numpy(testing_encoded_labels).float()"
   ]
  },
  {
   "cell_type": "code",
   "execution_count": 25,
   "metadata": {},
   "outputs": [
    {
     "name": "stdout",
     "output_type": "stream",
     "text": [
      "torch.Size([13314, 10])\n",
      "torch.Size([5706, 10])\n"
     ]
    }
   ],
   "source": [
    "print(X_train_val.shape)\n",
    "print(X_test.shape)"
   ]
  },
  {
   "cell_type": "code",
   "execution_count": 26,
   "metadata": {},
   "outputs": [],
   "source": [
    "X_train, X_val, y_train, y_val = train_test_split(X_train_val, y_train_val, test_size=0.1, random_state=42) "
   ]
  },
  {
   "cell_type": "code",
   "execution_count": 27,
   "metadata": {},
   "outputs": [
    {
     "name": "stdout",
     "output_type": "stream",
     "text": [
      "torch.Size([11982, 10])\n",
      "torch.Size([1332, 10])\n",
      "torch.Size([5706, 10])\n"
     ]
    }
   ],
   "source": [
    "print(X_train.shape)\n",
    "print(X_val.shape)\n",
    "print(X_test.shape)"
   ]
  },
  {
   "cell_type": "code",
   "execution_count": 28,
   "metadata": {},
   "outputs": [],
   "source": [
    "class ClassificationModel(nn.Module):\n",
    "    def __init__(self, input_layer, hidden_layer_1, hidden_layer_2, output_layer):\n",
    "        super(ClassificationModel, self).__init__()\n",
    "        self.l1 = nn.Linear(input_layer, hidden_layer_1)\n",
    "        self.l2 = nn.Linear(hidden_layer_1, hidden_layer_2)\n",
    "        self.out = nn.Linear(hidden_layer_2, output_layer)\n",
    " \n",
    "    def forward(self, data):\n",
    "        x = self.l1(data)\n",
    "        x = torch.relu(x)\n",
    "        x = self.l2(x)\n",
    "        x = torch.relu(x)\n",
    "        x = self.out(x)\n",
    "        return torch.sigmoid(x)\n",
    "     \n"
   ]
  },
  {
   "cell_type": "code",
   "execution_count": 29,
   "metadata": {},
   "outputs": [],
   "source": [
    "\n",
    "def train_val_model(model, epochs, optimizer, loss_fn, X_train, X_val, y_train, y_val):\n",
    "    acc_data_val = []\n",
    "    acc_data_train = []\n",
    "    loss_data_val = []\n",
    "    loss_data_train = []\n",
    "\n",
    "    for epoch in range(EPOCHS+1):\n",
    "        optimizer.zero_grad()\n",
    "        model.train()\n",
    "        y_pred_train = model(X_train)\n",
    "        loss_train = loss_fn(y_pred_train, y_train)\n",
    "        loss_train.backward()\n",
    "        optimizer.step()\n",
    "\n",
    "        model.eval()\n",
    "        y_pred_val = model(X_val)\n",
    "        loss_val = loss_fn(y_pred_val, y_val)\n",
    "        condition = y_pred_val >= 0.5\n",
    "        y_pred_val = torch.where(condition, 1, 0)\n",
    "        val_acc = torch.sum(y_pred_val == y_val) / len(y_val)\n",
    "\n",
    "        condition = y_pred_train >= 0.5\n",
    "        y_pred_train = torch.where(condition, 1, 0)\n",
    "        train_acc = torch.sum(y_pred_train == y_train) / len(y_train)\n",
    "        if epoch % 250 == 0:\n",
    "            print(f'{epoch} : Training loss {loss_train} && Training Acc is {train_acc} || Test loss {loss_val} && Test Acc is {val_acc}')\n",
    "        acc_data_val.append(val_acc)\n",
    "        acc_data_train.append(train_acc)\n",
    "        loss_data_val.append(loss_val.detach().numpy())\n",
    "        loss_data_train.append(loss_train.detach().numpy())\n",
    "\n",
    "    return acc_data_train, acc_data_val, loss_data_train, loss_data_val\n",
    "            "
   ]
  },
  {
   "cell_type": "code",
   "execution_count": 30,
   "metadata": {},
   "outputs": [
    {
     "name": "stdout",
     "output_type": "stream",
     "text": [
      "0 : Training loss 0.943087100982666 && Training Acc is 0.4475880563259125 || Test loss 0.9364085793495178 && Test Acc is 0.4587087035179138\n",
      "250 : Training loss 0.5775763988494873 && Training Acc is 0.7224169373512268 || Test loss 0.5713141560554504 && Test Acc is 0.7102102041244507\n",
      "500 : Training loss 0.5105680227279663 && Training Acc is 0.7493740320205688 || Test loss 0.5188628435134888 && Test Acc is 0.7424924969673157\n",
      "750 : Training loss 0.48374661803245544 && Training Acc is 0.7674845457077026 || Test loss 0.49396172165870667 && Test Acc is 0.7582582831382751\n",
      "1000 : Training loss 0.46326175332069397 && Training Acc is 0.7785845398902893 || Test loss 0.46905601024627686 && Test Acc is 0.7770270109176636\n",
      "1250 : Training loss 0.44983983039855957 && Training Acc is 0.7884326577186584 || Test loss 0.4527779817581177 && Test Acc is 0.7867867946624756\n",
      "1500 : Training loss 0.43880337476730347 && Training Acc is 0.7936070561408997 || Test loss 0.44056546688079834 && Test Acc is 0.7957957983016968\n",
      "1750 : Training loss 0.42738667130470276 && Training Acc is 0.8031213283538818 || Test loss 0.43058085441589355 && Test Acc is 0.7935435175895691\n",
      "2000 : Training loss 0.4166618585586548 && Training Acc is 0.811801016330719 || Test loss 0.4195696711540222 && Test Acc is 0.804804801940918\n"
     ]
    }
   ],
   "source": [
    "model_1 = ClassificationModel(10, 16, 32, 1)\n",
    "loss_fn = nn.BCELoss()\n",
    "optimizer = torch.optim.Adam(model_1.parameters(), lr=1e-4)\n",
    "acc_data_train_1, acc_data_val_1, loss_data_train_1, loss_data_val_1 = train_val_model(model_1, 2000, optimizer, loss_fn, X_train, X_val, y_train.reshape(-1, 1), y_val.reshape(-1, 1))"
   ]
  },
  {
   "cell_type": "code",
   "execution_count": 31,
   "metadata": {},
   "outputs": [
    {
     "name": "stdout",
     "output_type": "stream",
     "text": [
      "0 : Training loss 1.1365365982055664 && Training Acc is 0.5145217776298523 || Test loss 1.0671018362045288 && Test Acc is 0.5412912964820862\n",
      "250 : Training loss 0.47281619906425476 && Training Acc is 0.767234206199646 || Test loss 0.481145441532135 && Test Acc is 0.7762762904167175\n",
      "500 : Training loss 0.43531307578086853 && Training Acc is 0.7982807755470276 || Test loss 0.4468740224838257 && Test Acc is 0.804804801940918\n",
      "750 : Training loss 0.410808265209198 && Training Acc is 0.8115506768226624 || Test loss 0.4275963008403778 && Test Acc is 0.8070570826530457\n",
      "1000 : Training loss 0.39068567752838135 && Training Acc is 0.8258220553398132 || Test loss 0.41195541620254517 && Test Acc is 0.8130630850791931\n",
      "1250 : Training loss 0.37507790327072144 && Training Acc is 0.8372558951377869 || Test loss 0.4006219804286957 && Test Acc is 0.8243243098258972\n",
      "1500 : Training loss 0.36392536759376526 && Training Acc is 0.8428475856781006 || Test loss 0.3940747380256653 && Test Acc is 0.8348348140716553\n",
      "1750 : Training loss 0.35594606399536133 && Training Acc is 0.8472709059715271 || Test loss 0.3917103409767151 && Test Acc is 0.8393393158912659\n",
      "2000 : Training loss 0.34991055727005005 && Training Acc is 0.8506092429161072 || Test loss 0.3908938765525818 && Test Acc is 0.837837815284729\n"
     ]
    }
   ],
   "source": [
    "model_2 = ClassificationModel(10, 64, 128, 1)\n",
    "loss_fn = nn.BCELoss()\n",
    "optimizer = torch.optim.Adam(model_2.parameters(), lr=1e-4)\n",
    "acc_data_train_2, acc_data_val_2, loss_data_train_2, loss_data_val_2 = train_val_model(model_2, 2000, optimizer, loss_fn, X_train, X_val, y_train.reshape(-1, 1), y_val.reshape(-1, 1))"
   ]
  },
  {
   "cell_type": "code",
   "execution_count": 32,
   "metadata": {},
   "outputs": [
    {
     "name": "stdout",
     "output_type": "stream",
     "text": [
      "0 : Training loss 1.4020253419876099 && Training Acc is 0.3892505466938019 || Test loss 0.9306279420852661 && Test Acc is 0.4932432472705841\n",
      "250 : Training loss 0.43222343921661377 && Training Acc is 0.7996160984039307 || Test loss 0.44442638754844666 && Test Acc is 0.7935435175895691\n",
      "500 : Training loss 0.39428868889808655 && Training Acc is 0.8266566395759583 || Test loss 0.42030104994773865 && Test Acc is 0.8085585832595825\n",
      "750 : Training loss 0.36484959721565247 && Training Acc is 0.839425802230835 || Test loss 0.4059500992298126 && Test Acc is 0.8265765905380249\n",
      "1000 : Training loss 0.3483641743659973 && Training Acc is 0.8494408130645752 || Test loss 0.4624544382095337 && Test Acc is 0.8355855941772461\n",
      "1250 : Training loss 0.3377160131931305 && Training Acc is 0.8549491167068481 || Test loss 0.4618335962295532 && Test Acc is 0.8318318128585815\n",
      "1500 : Training loss 0.32966387271881104 && Training Acc is 0.8599566221237183 || Test loss 0.4638965129852295 && Test Acc is 0.8325825929641724\n",
      "1750 : Training loss 0.3227643072605133 && Training Acc is 0.8639625906944275 || Test loss 0.46745479106903076 && Test Acc is 0.837837815284729\n",
      "2000 : Training loss 0.3155684769153595 && Training Acc is 0.8666332960128784 || Test loss 0.4713037610054016 && Test Acc is 0.8333333134651184\n"
     ]
    }
   ],
   "source": [
    "model_3 = ClassificationModel(10, 128, 512, 1)\n",
    "loss_fn = nn.BCELoss()\n",
    "optimizer = torch.optim.Adam(model_3.parameters(), lr=1e-4)\n",
    "acc_data_train_3, acc_data_val_3, loss_data_train_3, loss_data_val_3 = train_val_model(model_3, 2000, optimizer, loss_fn, X_train, X_val, y_train.reshape(-1, 1), y_val.reshape(-1, 1))"
   ]
  },
  {
   "cell_type": "code",
   "execution_count": 33,
   "metadata": {},
   "outputs": [],
   "source": [
    "def plot_acc_loss(acc_data_train, acc_data_val, loss_data_train, loss_data_val):\n",
    "    x_axis = range(0, EPOCHS+1)\n",
    "    fig, axs = plt.subplots(1, 2, figsize=[18, 5])\n",
    "    \n",
    "    axs[0].plot(x_axis, acc_data_train, '--', color=\"r\",  label=\"Training score\")\n",
    "    axs[0].plot(x_axis, acc_data_val, color=\"b\", label=\"Cross-validation score\")\n",
    "    axs[0].set_title(\"Accuracy Curve\")\n",
    "    axs[0].set_xlabel(\"Training Set Size\")\n",
    "    axs[0].set_ylabel(\"Accuracy Score\"), plt.legend(loc=\"best\")\n",
    "    axs[0].legend()\n",
    "    \n",
    "    axs[1].plot(x_axis, loss_data_train, '--', color=\"r\",  label=\"Training loss\")\n",
    "    axs[1].plot(x_axis, loss_data_val, color=\"b\", label=\"Cross-validation loss\")\n",
    "    axs[1].set_title(\"Loss Curve\")\n",
    "    axs[1].set_xlabel(\"Training Set Size\")\n",
    "    axs[1].set_ylabel(\"Loss Score\"), plt.legend(loc=\"best\")\n",
    "    axs[1].legend()\n",
    "    plt.show()"
   ]
  },
  {
   "cell_type": "code",
   "execution_count": 34,
   "metadata": {},
   "outputs": [
    {
     "name": "stderr",
     "output_type": "stream",
     "text": [
      "No handles with labels found to put in legend.\n"
     ]
    },
    {
     "data": {
      "image/png": "[encoded data removed]",
      "text/plain": [
       "<Figure size 1296x360 with 2 Axes>"
      ]
     },
     "metadata": {
      "needs_background": "light"
     },
     "output_type": "display_data"
    }
   ],
   "source": [
    "plot_acc_loss(acc_data_train_1, acc_data_val_1, loss_data_train_1, loss_data_val_1)"
   ]
  },
  {
   "cell_type": "code",
   "execution_count": 40,
   "metadata": {},
   "outputs": [],
   "source": [
    "def evalute_test(model, X_test, y_test):\n",
    "    model.eval()\n",
    "    y_pred_test = model(X_test)\n",
    "    cond = y_pred_test >= 0.5\n",
    "    y_pred_test = torch.where(cond, 1, 0)\n",
    "    train_acc = torch.sum(y_pred_test == y_test) / len(y_test)\n",
    "    print(f\"Model Acc. on Test Data {train_acc}\")"
   ]
  },
  {
   "cell_type": "code",
   "execution_count": 43,
   "metadata": {},
   "outputs": [
    {
     "name": "stdout",
     "output_type": "stream",
     "text": [
      "Model Acc. on Test Data 0.8117770552635193\n",
      "Model Acc. on Test Data 0.8391166925430298\n",
      "Model Acc. on Test Data 0.8378899693489075\n"
     ]
    }
   ],
   "source": [
    "evalute_test(model_1, X_test, y_test.reshape(-1, 1))\n",
    "evalute_test(model_2, X_test, y_test.reshape(-1, 1))\n",
    "evalute_test(model_3, X_test, y_test.reshape(-1, 1))"
   ]
  },
  {
   "cell_type": "code",
   "execution_count": null,
   "metadata": {},
   "outputs": [],
   "source": []
  },
  {
   "cell_type": "markdown",
   "metadata": {},
   "source": [
    "### Scaling Data"
   ]
  },
  {
   "cell_type": "code",
   "execution_count": null,
   "metadata": {},
   "outputs": [],
   "source": []
  },
  {
   "cell_type": "code",
   "execution_count": null,
   "metadata": {},
   "outputs": [],
   "source": []
  }
 ],
 "metadata": {
  "interpreter": {
   "hash": "c20b7c458658bee694630567ba3e0a0589b3365f748196e154460478b4d51f10"
  },
  "kernelspec": {
   "display_name": "Python 3.9.7 ('base')",
   "language": "python",
   "name": "python3"
  },
  "language_info": {
   "codemirror_mode": {
    "name": "ipython",
    "version": 3
   },
   "file_extension": ".py",
   "mimetype": "text/x-python",
   "name": "python",
   "nbconvert_exporter": "python",
   "pygments_lexer": "ipython3",
   "version": "3.9.7"
  },
  "orig_nbformat": 4
 },
 "nbformat": 4,
 "nbformat_minor": 2
}
