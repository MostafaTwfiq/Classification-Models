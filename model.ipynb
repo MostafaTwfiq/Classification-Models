{
  "cells": [
    {
      "cell_type": "code",
      "execution_count": 1,
      "metadata": {
        "id": "3hhVyIcWLs3u"
      },
      "outputs": [],
      "source": [
        "import numpy as np\n",
        "import pandas as pd\n",
        "import sklearn\n",
        "from imblearn.under_sampling import RandomUnderSampler\n",
        "from sklearn.model_selection import train_test_split\n",
        "import math\n",
        "import random\n",
        "import matplotlib.pyplot as plt"
      ]
    },
    {
      "cell_type": "markdown",
      "metadata": {
        "id": "UzVLkSd7JKqs"
      },
      "source": [
        "## 0. Loading DataSet"
      ]
    },
    {
      "cell_type": "code",
      "execution_count": 2,
      "metadata": {
        "id": "OWSwn2v_Ls3v"
      },
      "outputs": [],
      "source": [
        "data_set = np.genfromtxt('Data\\magic04.data', delimiter=',', dtype=str) # Data is in the form of array of tuples\n",
        "labels = data_set[:, len(data_set[0]) - 1:len(data_set[0])]"
      ]
    },
    {
      "cell_type": "markdown",
      "metadata": {
        "id": "qJV3A4ZCIuTA"
      },
      "source": [
        "# 1. Data Balancing"
      ]
    },
    {
      "cell_type": "code",
      "execution_count": 3,
      "metadata": {
        "id": "5ygVRpocIuTA"
      },
      "outputs": [],
      "source": [
        "under_sampler = RandomUnderSampler()\n",
        "sampled_data, sampled_labels = under_sampler.fit_resample(data_set, labels)"
      ]
    },
    {
      "cell_type": "code",
      "execution_count": 4,
      "metadata": {
        "colab": {
          "base_uri": "https://localhost:8080/"
        },
        "id": "ZfoQzlxAIuTB",
        "outputId": "70fcc4d8-9730-4187-c521-88a40158bf11"
      },
      "outputs": [
        {
          "name": "stdout",
          "output_type": "stream",
          "text": [
            "{'g': 12332, 'h': 6688}\n",
            "{'g': 6688, 'h': 6688}\n"
          ]
        }
      ],
      "source": [
        "unique, counts = np.unique(labels, return_counts=True)\n",
        "print(dict(zip(unique, counts)))\n",
        "unique, counts = np.unique(sampled_labels, return_counts=True)\n",
        "print(dict(zip(unique, counts)))"
      ]
    },
    {
      "cell_type": "markdown",
      "metadata": {
        "id": "I_Ej111CIuTG"
      },
      "source": [
        "# 2. Data Split\n"
      ]
    },
    {
      "cell_type": "code",
      "execution_count": 5,
      "metadata": {
        "id": "I7UNBXcqIuTH"
      },
      "outputs": [],
      "source": [
        "training_data_set, testing_data_set = train_test_split(data_set, test_size=0.3)"
      ]
    },
    {
      "cell_type": "code",
      "execution_count": 6,
      "metadata": {
        "id": "APktxsNEIuTI"
      },
      "outputs": [],
      "source": [
        "training_data = np.array(training_data_set[:, 0:len(training_data_set[0]) - 1]).astype(np.float64)\n",
        "training_labels = training_data_set[:, len(training_data_set[0]) - 1:len(training_data_set[0])]\n",
        "training_labels = np.reshape(training_labels, len(training_labels))"
      ]
    },
    {
      "cell_type": "code",
      "execution_count": 7,
      "metadata": {
        "id": "vy5TbNfqIuTJ"
      },
      "outputs": [],
      "source": [
        "testing_data = np.array(testing_data_set[:, 0:len(testing_data_set[0]) - 1]).astype(np.float64)\n",
        "testing_labels = testing_data_set[:, len(testing_data_set[0]) - 1:len(testing_data_set[0])]\n",
        "testing_labels = np.reshape(testing_labels, len(testing_labels))"
      ]
    },
    {
      "cell_type": "markdown",
      "metadata": {
        "id": "cNtNwdgaIuTJ"
      },
      "source": [
        "# 3. Classification"
      ]
    },
    {
      "cell_type": "code",
      "execution_count": 8,
      "metadata": {
        "id": "P6cEIKpXIuTK"
      },
      "outputs": [],
      "source": [
        "from sklearn.metrics import accuracy_score\n",
        "from sklearn.metrics import precision_score\n",
        "from sklearn.metrics import recall_score\n",
        "from sklearn.metrics import f1_score\n",
        "\n",
        "from sklearn import tree\n",
        "from sklearn.naive_bayes import GaussianNB\n",
        "from sklearn.neighbors import KNeighborsClassifier\n",
        "from sklearn.ensemble import AdaBoostClassifier\n",
        "from sklearn.ensemble import RandomForestClassifier\n",
        "import math\n",
        "import random"
      ]
    },
    {
      "cell_type": "markdown",
      "metadata": {
        "id": "UBnEhiF0IuTK"
      },
      "source": [
        "### (a) Decision Tree"
      ]
    },
    {
      "cell_type": "code",
      "execution_count": 9,
      "metadata": {
        "id": "MqCh1qnbIuTL"
      },
      "outputs": [],
      "source": [
        "def decision_tree(tr_data, tr_labels, tst_data):\n",
        "    decision_tree = tree.DecisionTreeClassifier()\n",
        "    decision_tree_pred = decision_tree.fit(tr_data, tr_labels).predict(tst_data)\n",
        "    return decision_tree_pred"
      ]
    },
    {
      "cell_type": "markdown",
      "metadata": {
        "id": "GVBuqA-1IuTL"
      },
      "source": [
        "### (b) AdaBoost"
      ]
    },
    {
      "cell_type": "code",
      "execution_count": 10,
      "metadata": {
        "id": "CzlAcCS7IuTL"
      },
      "outputs": [],
      "source": [
        "def ada_boost(tr_data, tr_labels, tst_data, n_estimators):\n",
        "    ada_boost = AdaBoostClassifier(n_estimators=n_estimators)\n",
        "    ada_boost_pred = ada_boost.fit(tr_data, tr_labels).predict(tst_data)\n",
        "    return ada_boost_pred\n",
        "    "
      ]
    },
    {
      "cell_type": "markdown",
      "metadata": {
        "id": "9pth-Fz3IuTM"
      },
      "source": [
        "### (c) K-Nearest Neighbors (K-NN)"
      ]
    },
    {
      "cell_type": "code",
      "execution_count": 11,
      "metadata": {
        "id": "yWeUvRkNIuTM"
      },
      "outputs": [],
      "source": [
        "def knn(tr_data, tr_labels, tst_data, k_neighb = 3):\n",
        "    neigh = KNeighborsClassifier(n_neighbors=k_neighb)\n",
        "    knn_pred = neigh.fit(tr_data, tr_labels).predict(tst_data)\n",
        "    return knn_pred"
      ]
    },
    {
      "cell_type": "markdown",
      "metadata": {
        "id": "fU1N4FvgIuTN"
      },
      "source": [
        "### (d) Random Forests\n"
      ]
    },
    {
      "cell_type": "code",
      "execution_count": 12,
      "metadata": {
        "id": "qG1bP8IeIuTN"
      },
      "outputs": [],
      "source": [
        "def random_forests(tr_data, tr_labels, tst_data, n_estimators):\n",
        "    random_forests = RandomForestClassifier(n_estimators=n_estimators)\n",
        "    random_forests_pred = random_forests.fit(tr_data, tr_labels).predict(tst_data)\n",
        "    return random_forests_pred\n",
        "    "
      ]
    },
    {
      "cell_type": "markdown",
      "metadata": {
        "id": "648cjAGqIuTN"
      },
      "source": [
        "### (e) Na¨ıve Bayes\n"
      ]
    },
    {
      "cell_type": "code",
      "execution_count": 13,
      "metadata": {
        "id": "Mh3_6_19IuTN"
      },
      "outputs": [],
      "source": [
        "def naive_bayes(tr_data, tr_labels, tst_data):\n",
        "    gnb = GaussianNB()\n",
        "    naive_bayes_pred = gnb.fit(tr_data, tr_labels).predict(tst_data)\n",
        "    return naive_bayes_pred"
      ]
    },
    {
      "cell_type": "code",
      "execution_count": null,
      "metadata": {
        "id": "D9L5s7DgKvKx"
      },
      "outputs": [],
      "source": []
    },
    {
      "cell_type": "markdown",
      "metadata": {
        "id": "_oEIhfbrJKq3"
      },
      "source": [
        "# 4. Model Parameter Tuning\n"
      ]
    },
    {
      "cell_type": "code",
      "execution_count": 14,
      "metadata": {
        "id": "6snulUxPM5JU"
      },
      "outputs": [],
      "source": [
        "def splitData(data, labels, n_splits):\n",
        "\n",
        "  step = math.floor(len(data)/n_splits)\n",
        "\n",
        "  splitted_data = []\n",
        "  splitted_labels = []\n",
        "\n",
        "  index = 0\n",
        "  for i in range(n_splits):\n",
        "    if index+step > len(data):\n",
        "      splitted_data.append(data[index:])\n",
        "      splitted_labels.append(labels[index:])\n",
        "    else:\n",
        "      splitted_data.append(data[index: index+step])\n",
        "      splitted_labels.append(labels[index:index+step])\n",
        "    index = index+step\n",
        "\n",
        "  return splitted_data, splitted_labels\n"
      ]
    },
    {
      "cell_type": "code",
      "execution_count": 15,
      "metadata": {
        "id": "B9Y-h2fWWDLM"
      },
      "outputs": [],
      "source": [
        "def tuneParamters(splitted_data, splitted_labels, set_classifier_params, domain, kparams):\n",
        "\n",
        "  params = []\n",
        "\n",
        "  scores = {}\n",
        "\n",
        "  # intitialize k random parmaters space\n",
        "  for i in range(kparams):\n",
        "\n",
        "    index = random.randint(0, len(domain)-1)\n",
        "    params.append(domain[index])\n",
        "    del domain[index]\n",
        "\n",
        "  # classifing using each generated parameter\n",
        "  for i in range(kparams):\n",
        "    \n",
        "    classifieri = set_classifier_params(params[i])\n",
        "    sum = 0\n",
        "    n = len(splitted_data)\n",
        "\n",
        "    # k-corss validation and compute average score\n",
        "    for j in range(n):\n",
        "\n",
        "      #splitting data to train and validation\n",
        "      training_data = [splitted_data[k] for k in range(n) if k != j]\n",
        "      training_labels = [splitted_labels[k] for k in range(n) if k != j]\n",
        "      \n",
        "      merged_data = []\n",
        "\n",
        "      for k in range(len(training_data)):\n",
        "        merged_data.extend(training_data[k])\n",
        "      training_data = merged_data\n",
        "\n",
        "      merged_labels = []\n",
        "\n",
        "      for k in range(len(training_labels)):\n",
        "        merged_labels.extend(training_labels[k])\n",
        "      training_labels = merged_labels\n",
        "\n",
        "      \n",
        "      testing_data = splitted_data[j]\n",
        "      testing_labels = splitted_labels[j]\n",
        "\n",
        "      classifier_pred = classifieri.fit(training_data, training_labels).predict(testing_data)\n",
        "      accuracy = accuracy_score(testing_labels, classifier_pred)\n",
        "      sum = sum + accuracy\n",
        "    scores[params[i]] = sum/n\n",
        "\n",
        "  return max(scores, key=scores.get)\n",
        "\n",
        "  \n",
        "\n",
        "\n",
        "\n",
        "  "
      ]
    },
    {
      "cell_type": "code",
      "execution_count": 16,
      "metadata": {
        "colab": {
          "base_uri": "https://localhost:8080/"
        },
        "id": "0K8LcCQzO5nt",
        "outputId": "35ffdad7-6b7a-49f9-ee86-8287182c97ee"
      },
      "outputs": [
        {
          "name": "stdout",
          "output_type": "stream",
          "text": [
            "Knn accuracy with k = 11 is 80.9323519102699%\n",
            "adaboost accuracy with n_estimators = 24 is 83.2807570977918%\n",
            "Random forests accuracy with n_estimators = 21 is 87.90746582544689%\n"
          ]
        }
      ],
      "source": [
        "splitted_data, splitted_labels = splitData(training_data, training_labels, 2)\n",
        "\n",
        "#K-nn classifier tuning:\n",
        "k = tuneParamters(splitted_data, splitted_labels, lambda k: KNeighborsClassifier(n_neighbors=k), [i for i in range(1, 30)], 5)\n",
        "\n",
        "predictions = knn(training_data, training_labels, testing_data, k)\n",
        "\n",
        "print(f\"Knn accuracy with k = {k} is {accuracy_score(testing_labels, predictions)*100}%\")\n",
        "\n",
        "#adaboost tuning:\n",
        "n_estimators = tuneParamters(splitted_data, splitted_labels, lambda n_estimators: AdaBoostClassifier(n_estimators=n_estimators), [i for i in range(1, 30)], 5)\n",
        "\n",
        "predictions = ada_boost(training_data, training_labels, testing_data, n_estimators=n_estimators)\n",
        "\n",
        "print(f\"adaboost accuracy with n_estimators = {n_estimators} is {accuracy_score(testing_labels, predictions)*100}%\")\n",
        "\n",
        "#random forests tuning:\n",
        "n_estimators = tuneParamters(splitted_data, splitted_labels, lambda n_estimators: RandomForestClassifier(n_estimators=n_estimators), [i for i in range(1, 30)], 5)\n",
        "\n",
        "predictions = random_forests(training_data, training_labels, testing_data, n_estimators=n_estimators)\n",
        "\n",
        "print(f\"Random forests accuracy with n_estimators = {n_estimators} is {accuracy_score(testing_labels, predictions)*100}%\")"
      ]
    },
    {
      "cell_type": "code",
      "execution_count": 17,
      "metadata": {
        "colab": {
          "base_uri": "https://localhost:8080/"
        },
        "id": "8YdAxfx7JKq3",
        "outputId": "9ad7a763-8c0e-4d59-daee-c9db51ee7538"
      },
      "outputs": [
        {
          "name": "stdout",
          "output_type": "stream",
          "text": [
            "Decision tree accuracy:  81.58079214861549 %\n"
          ]
        },
        {
          "data": {
            "text/plain": [
              "0.8156539208040574"
            ]
          },
          "execution_count": 17,
          "metadata": {},
          "output_type": "execute_result"
        }
      ],
      "source": [
        "decision_tree_pred = decision_tree(training_data, training_labels, testing_data)\n",
        "print(\"Decision tree accuracy: \", accuracy_score(testing_labels, decision_tree_pred) * 100, \"%\")\n",
        "precision_score(testing_labels, decision_tree_pred, average='weighted')\n",
        "recall_score(testing_labels, decision_tree_pred, average='weighted')\n",
        "f1_score(testing_labels, decision_tree_pred, average='weighted')"
      ]
    },
    {
      "cell_type": "code",
      "execution_count": 18,
      "metadata": {
        "colab": {
          "base_uri": "https://localhost:8080/"
        },
        "id": "wgw5EyhtJKq4",
        "outputId": "16fece09-1825-40b2-a841-bf722bd3493d"
      },
      "outputs": [
        {
          "name": "stdout",
          "output_type": "stream",
          "text": [
            "Na¨ıve bayes accuracy:  73.74693305292675 %\n"
          ]
        },
        {
          "data": {
            "text/plain": [
              "0.7123106540467639"
            ]
          },
          "execution_count": 18,
          "metadata": {},
          "output_type": "execute_result"
        }
      ],
      "source": [
        "naive_bayes_pred = naive_bayes(training_data, training_labels, testing_data)\n",
        "print(\"Na¨ıve bayes accuracy: \", accuracy_score(testing_labels, naive_bayes_pred) * 100, \"%\")\n",
        "precision_score(testing_labels, naive_bayes_pred, average='weighted')\n",
        "recall_score(testing_labels, naive_bayes_pred, average='weighted')\n",
        "f1_score(testing_labels, naive_bayes_pred, average='weighted')"
      ]
    },
    {
      "cell_type": "code",
      "execution_count": 19,
      "metadata": {
        "colab": {
          "base_uri": "https://localhost:8080/"
        },
        "id": "EkZQoWprJKq4",
        "outputId": "b85086d0-7470-49f5-82d6-f5bc7604f8b9"
      },
      "outputs": [
        {
          "name": "stdout",
          "output_type": "stream",
          "text": [
            "1-NN accuracy:  77.91798107255521 %\n",
            "2-NN accuracy:  79.07465825446897 %\n",
            "3-NN accuracy:  80.07360672975815 %\n",
            "4-NN accuracy:  80.09113214160533 %\n",
            "5-NN accuracy:  80.54679284963197 %\n",
            "6-NN accuracy:  80.38906414300736 %\n",
            "7-NN accuracy:  80.9323519102699 %\n",
            "8-NN accuracy:  80.9323519102699 %\n",
            "9-NN accuracy:  80.89730108657554 %\n",
            "10-NN accuracy:  81.05502979320013 %\n",
            "11-NN accuracy:  80.9323519102699 %\n",
            "12-NN accuracy:  80.79214861549247 %\n",
            "13-NN accuracy:  81.05502979320013 %\n",
            "14-NN accuracy:  80.91482649842271 %\n",
            "15-NN accuracy:  81.00245355765861 %\n",
            "16-NN accuracy:  80.844724851034 %\n",
            "17-NN accuracy:  81.05502979320013 %\n",
            "18-NN accuracy:  80.91482649842271 %\n",
            "19-NN accuracy:  81.16018226428321 %\n",
            "20-NN accuracy:  81.07255520504731 %\n"
          ]
        }
      ],
      "source": [
        "k_neighb = [1, 2, 3, 4, 5, 6, 7, 8, 9, 10, 11, 12, 13, 14, 15, 16, 17, 18, 19, 20]\n",
        "for k in k_neighb:\n",
        "    knn_pred = knn(training_data, training_labels, testing_data, k)\n",
        "    print(str(k) + \"-NN accuracy: \", accuracy_score(testing_labels, knn_pred) * 100, \"%\")\n",
        "    precision_score(testing_labels, knn_pred, average='weighted')\n",
        "    recall_score(testing_labels, knn_pred, average='weighted')\n",
        "    f1_score(testing_labels, knn_pred, average='weighted')"
      ]
    },
    {
      "cell_type": "code",
      "execution_count": 20,
      "metadata": {
        "colab": {
          "base_uri": "https://localhost:8080/"
        },
        "id": "Xj_4X6pMJKq5",
        "outputId": "d93c651d-32fd-4cb1-831c-04a3c735c85f"
      },
      "outputs": [
        {
          "name": "stdout",
          "output_type": "stream",
          "text": [
            "90_estimators AdaBoost accuracy:  85.26112863652295 %\n",
            "91_estimators AdaBoost accuracy:  85.2260778128286 %\n",
            "92_estimators AdaBoost accuracy:  85.29617946021732 %\n",
            "93_estimators AdaBoost accuracy:  85.33123028391168 %\n",
            "94_estimators AdaBoost accuracy:  85.24360322467578 %\n",
            "95_estimators AdaBoost accuracy:  85.24360322467578 %\n",
            "96_estimators AdaBoost accuracy:  85.26112863652295 %\n",
            "97_estimators AdaBoost accuracy:  85.27865404837014 %\n",
            "98_estimators AdaBoost accuracy:  85.26112863652295 %\n",
            "99_estimators AdaBoost accuracy:  85.27865404837014 %\n",
            "100_estimators AdaBoost accuracy:  85.26112863652295 %\n"
          ]
        }
      ],
      "source": [
        "n_estimators = [90, 91, 92, 93, 94, 95, 96, 97, 98, 99, 100]\n",
        "for n in n_estimators:\n",
        "    ada_boost_pred = ada_boost(training_data, training_labels, testing_data, n)\n",
        "    print(str(n) + \"_estimators AdaBoost accuracy: \", accuracy_score(testing_labels, ada_boost_pred) * 100, \"%\")\n",
        "    precision_score(testing_labels, ada_boost_pred, average='weighted')\n",
        "    recall_score(testing_labels, ada_boost_pred, average='weighted')\n",
        "    f1_score(testing_labels, ada_boost_pred, average='weighted')"
      ]
    },
    {
      "cell_type": "code",
      "execution_count": 21,
      "metadata": {
        "colab": {
          "base_uri": "https://localhost:8080/",
          "height": 466
        },
        "id": "96nxD2I1JKq5",
        "outputId": "688e5389-3ab8-4df5-e9be-79be86706efc"
      },
      "outputs": [
        {
          "name": "stdout",
          "output_type": "stream",
          "text": [
            "90_estimators random forests accuracy:  88.5559060637925 %\n",
            "91_estimators random forests accuracy:  88.53838065194533 %\n",
            "92_estimators random forests accuracy:  88.10024535576586 %\n",
            "93_estimators random forests accuracy:  88.24044865054329 %\n",
            "94_estimators random forests accuracy:  88.5559060637925 %\n",
            "95_estimators random forests accuracy:  88.18787241500175 %\n",
            "96_estimators random forests accuracy:  88.64353312302839 %\n",
            "97_estimators random forests accuracy:  88.74868559411146 %\n",
            "98_estimators random forests accuracy:  88.59095688748685 %\n",
            "99_estimators random forests accuracy:  88.50332982825097 %\n",
            "100_estimators random forests accuracy:  88.45075359270943 %\n"
          ]
        }
      ],
      "source": [
        "n_estimators = [90, 91, 92, 93, 94, 95, 96, 97, 98, 99, 100]\n",
        "for n in n_estimators:\n",
        "    random_forests_pred = random_forests(training_data, training_labels, testing_data, n)\n",
        "    print(str(n) + \"_estimators random forests accuracy: \", accuracy_score(testing_labels, random_forests_pred) * 100, \"%\")\n",
        "    precision_score(testing_labels, random_forests_pred, average='weighted')\n",
        "    recall_score(testing_labels, random_forests_pred, average='weighted')\n",
        "    f1_score(testing_labels, random_forests_pred, average='weighted')"
      ]
    },
    {
      "cell_type": "markdown",
      "metadata": {
        "id": "cHOyY19dIuTR"
      },
      "source": [
        "# 5. Report Requirements"
      ]
    },
    {
      "cell_type": "code",
      "execution_count": null,
      "metadata": {
        "id": "pkdkawnfIuTR"
      },
      "outputs": [],
      "source": []
    },
    {
      "cell_type": "code",
      "execution_count": null,
      "metadata": {
        "id": "_SDiNhPvIuTR"
      },
      "outputs": [],
      "source": []
    },
    {
      "cell_type": "markdown",
      "metadata": {
        "id": "2CYEiRxeIuTR"
      },
      "source": [
        "# 6. Bonus"
      ]
    },
    {
      "cell_type": "code",
      "execution_count": 22,
      "metadata": {
        "id": "bDaVjX3JIuTR"
      },
      "outputs": [],
      "source": [
        "import torch\n",
        "import torch.nn as nn\n",
        "import torch.nn.functional as F\n",
        "from sklearn import preprocessing"
      ]
    },
    {
      "cell_type": "code",
      "execution_count": 23,
      "metadata": {
        "id": "_pOz6TihIuTU"
      },
      "outputs": [],
      "source": [
        "EPOCHS = 2000"
      ]
    },
    {
      "cell_type": "code",
      "execution_count": 24,
      "metadata": {
        "id": "XqVrM9C9IuTW"
      },
      "outputs": [],
      "source": [
        "le = preprocessing.LabelEncoder()\n",
        "training_encoded_labels = le.fit_transform(training_labels)\n",
        "testing_encoded_labels = le.fit_transform(testing_labels)"
      ]
    },
    {
      "cell_type": "code",
      "execution_count": 25,
      "metadata": {
        "id": "YbEZd_bKIuTW",
        "outputId": "96843f7f-5730-49ac-9d3c-19a05a79952a"
      },
      "outputs": [
        {
          "name": "stdout",
          "output_type": "stream",
          "text": [
            "Training Data Shape (13314, 10)\n",
            "Training Label Shape (13314,)\n"
          ]
        }
      ],
      "source": [
        "print(f'Training Data Shape {training_data.shape}')\n",
        "print(f'Training Label Shape {training_encoded_labels.shape}')"
      ]
    },
    {
      "cell_type": "code",
      "execution_count": 26,
      "metadata": {
        "id": "8DcDIFAaIuTW",
        "outputId": "c1db81ac-0a15-4c14-beeb-05c9e3160f4a"
      },
      "outputs": [
        {
          "name": "stdout",
          "output_type": "stream",
          "text": [
            "Training Data  [8.27097e+01 3.30359e+01 3.71440e+00 1.63300e-01 8.46000e-02 2.95431e+01\n",
            " 6.10629e+01 1.90000e+01 1.21600e+00 2.91139e+02]\n",
            "Training Label 0\n"
          ]
        }
      ],
      "source": [
        "print(f'Training Data  {training_data[0]}')\n",
        "print(f'Training Label {training_encoded_labels[0]}')"
      ]
    },
    {
      "cell_type": "code",
      "execution_count": 27,
      "metadata": {
        "id": "Op-0diOvIuTX"
      },
      "outputs": [],
      "source": [
        "X_train_val = torch.from_numpy(training_data).float()\n",
        "X_test = torch.from_numpy(testing_data).float()\n",
        "y_train_val = torch.from_numpy(training_encoded_labels).float()\n",
        "y_test = torch.from_numpy(testing_encoded_labels).float()"
      ]
    },
    {
      "cell_type": "code",
      "execution_count": 28,
      "metadata": {
        "id": "nyIDNRhvIuTX",
        "outputId": "882c023a-25c6-48e9-9f1e-d52f12c95b0b"
      },
      "outputs": [
        {
          "name": "stdout",
          "output_type": "stream",
          "text": [
            "torch.Size([13314, 10])\n",
            "torch.Size([5706, 10])\n"
          ]
        }
      ],
      "source": [
        "print(X_train_val.shape)\n",
        "print(X_test.shape)"
      ]
    },
    {
      "cell_type": "code",
      "execution_count": 29,
      "metadata": {
        "id": "fftquonnIuTY"
      },
      "outputs": [],
      "source": [
        "X_train, X_val, y_train, y_val = train_test_split(X_train_val, y_train_val, test_size=0.1, random_state=42) "
      ]
    },
    {
      "cell_type": "code",
      "execution_count": 30,
      "metadata": {
        "id": "gXp9WDnJIuTY",
        "outputId": "672d248a-5dcd-48df-ec2a-b93478bd0303"
      },
      "outputs": [
        {
          "name": "stdout",
          "output_type": "stream",
          "text": [
            "torch.Size([11982, 10])\n",
            "torch.Size([1332, 10])\n",
            "torch.Size([5706, 10])\n"
          ]
        }
      ],
      "source": [
        "print(X_train.shape)\n",
        "print(X_val.shape)\n",
        "print(X_test.shape)"
      ]
    },
    {
      "cell_type": "code",
      "execution_count": 31,
      "metadata": {
        "id": "5pMwDqWeIuTY"
      },
      "outputs": [],
      "source": [
        "class ClassificationModel(nn.Module):\n",
        "    def __init__(self, input_layer, hidden_layer_1, hidden_layer_2, output_layer):\n",
        "        super(ClassificationModel, self).__init__()\n",
        "        self.l1 = nn.Linear(input_layer, hidden_layer_1)\n",
        "        self.l2 = nn.Linear(hidden_layer_1, hidden_layer_2)\n",
        "        self.out = nn.Linear(hidden_layer_2, output_layer)\n",
        " \n",
        "    def forward(self, data):\n",
        "        x = self.l1(data)\n",
        "        x = torch.relu(x)\n",
        "        x = self.l2(x)\n",
        "        x = torch.relu(x)\n",
        "        x = self.out(x)\n",
        "        return torch.sigmoid(x)\n",
        "     \n"
      ]
    },
    {
      "cell_type": "code",
      "execution_count": 32,
      "metadata": {
        "id": "JiCXblA8IuTZ"
      },
      "outputs": [],
      "source": [
        "\n",
        "def train_eval_model(model, epochs, optimizer, loss_fn, X_train, X_val, y_train, y_val, cross_val=False):\n",
        "    acc_data_val = []\n",
        "    acc_data_train = []\n",
        "    loss_data_val = []\n",
        "    loss_data_train = []\n",
        "\n",
        "    for epoch in range(epochs+1):\n",
        "        optimizer.zero_grad()\n",
        "        model.train()\n",
        "        y_pred_train = model(X_train)\n",
        "        loss_train = loss_fn(y_pred_train, y_train)\n",
        "        loss_train.backward()\n",
        "        optimizer.step()\n",
        "\n",
        "        model.eval()\n",
        "        y_pred_val = model(X_val)\n",
        "        loss_val = loss_fn(y_pred_val, y_val)\n",
        "        condition = y_pred_val >= 0.5\n",
        "        y_pred_val = torch.where(condition, 1, 0)\n",
        "        val_acc = torch.sum(y_pred_val == y_val) / len(y_val)\n",
        "\n",
        "        condition = y_pred_train >= 0.5\n",
        "        y_pred_train = torch.where(condition, 1, 0)\n",
        "        train_acc = torch.sum(y_pred_train == y_train) / len(y_train)\n",
        "        if epoch % 250 == 0 and not cross_val:\n",
        "            print(f'{epoch} : Training loss {loss_train} && Training Acc is {train_acc} || Val loss {loss_val} && Val Acc is {val_acc}')\n",
        "        acc_data_val.append(val_acc)\n",
        "        acc_data_train.append(train_acc)\n",
        "        loss_data_val.append(loss_val.detach().numpy())\n",
        "        loss_data_train.append(loss_train.detach().numpy())\n",
        "\n",
        "    return np.array(acc_data_train), np.array(acc_data_val), np.array(loss_data_train), np.array(loss_data_val)\n",
        "            "
      ]
    },
    {
      "cell_type": "code",
      "execution_count": 33,
      "metadata": {
        "id": "0xJu581mIuTZ",
        "outputId": "b1b7284e-e8cd-405e-d345-4b96b8535bb5"
      },
      "outputs": [
        {
          "name": "stdout",
          "output_type": "stream",
          "text": [
            "0 : Training loss 0.8336156606674194 && Training Acc is 0.7001335620880127 || Val loss 0.8687984943389893 && Val Acc is 0.695195198059082\n",
            "250 : Training loss 0.5321425199508667 && Training Acc is 0.7283425331115723 || Val loss 0.5495922565460205 && Val Acc is 0.7147147059440613\n",
            "500 : Training loss 0.5089632868766785 && Training Acc is 0.7423635721206665 || Val loss 0.53044593334198 && Val Acc is 0.7237237095832825\n",
            "750 : Training loss 0.4953991174697876 && Training Acc is 0.7505424618721008 || Val loss 0.5191294550895691 && Val Acc is 0.7312312126159668\n",
            "1000 : Training loss 0.48213016986846924 && Training Acc is 0.7627274394035339 || Val loss 0.5065453052520752 && Val Acc is 0.7409909963607788\n",
            "1250 : Training loss 0.4650450646877289 && Training Acc is 0.7808379530906677 || Val loss 0.48884499073028564 && Val Acc is 0.7635135054588318\n",
            "1500 : Training loss 0.44916021823883057 && Training Acc is 0.7971123456954956 || Val loss 0.47095394134521484 && Val Acc is 0.7755255103111267\n",
            "1750 : Training loss 0.43530431389808655 && Training Acc is 0.8118845224380493 || Val loss 0.45614132285118103 && Val Acc is 0.7800300121307373\n",
            "2000 : Training loss 0.4219192862510681 && Training Acc is 0.8203138113021851 || Val loss 0.441555917263031 && Val Acc is 0.8003003001213074\n"
          ]
        }
      ],
      "source": [
        "model_1 = ClassificationModel(10, 16, 32, 1)\n",
        "loss_fn = nn.BCELoss()\n",
        "optimizer = torch.optim.Adam(model_1.parameters(), lr=1e-4)\n",
        "acc_data_train_1, acc_data_val_1, loss_data_train_1, loss_data_val_1 = train_eval_model(model_1, 2000, optimizer, loss_fn, X_train, X_val, y_train.reshape(-1, 1), y_val.reshape(-1, 1))"
      ]
    },
    {
      "cell_type": "code",
      "execution_count": 34,
      "metadata": {
        "id": "TebNHNOVIuTZ",
        "outputId": "244b9068-f236-44d3-d745-4911e9c3cee1"
      },
      "outputs": [
        {
          "name": "stdout",
          "output_type": "stream",
          "text": [
            "0 : Training loss 7.443737030029297 && Training Acc is 0.3486062288284302 || Val loss 6.734973430633545 && Val Acc is 0.3611111044883728\n",
            "250 : Training loss 0.48280733823776245 && Training Acc is 0.768903374671936 || Val loss 0.5050297379493713 && Val Acc is 0.7462462186813354\n",
            "500 : Training loss 0.4532567858695984 && Training Acc is 0.7891837954521179 || Val loss 0.4816310703754425 && Val Acc is 0.7635135054588318\n",
            "750 : Training loss 0.43175265192985535 && Training Acc is 0.8030378818511963 || Val loss 0.46493345499038696 && Val Acc is 0.7792792916297913\n",
            "1000 : Training loss 0.4135574996471405 && Training Acc is 0.8143882751464844 || Val loss 0.45140519738197327 && Val Acc is 0.7860360145568848\n",
            "1250 : Training loss 0.396808922290802 && Training Acc is 0.8231514096260071 || Val loss 0.4395972788333893 && Val Acc is 0.8003003001213074\n",
            "1500 : Training loss 0.3821979761123657 && Training Acc is 0.8325822353363037 || Val loss 0.43041422963142395 && Val Acc is 0.8063063025474548\n",
            "1750 : Training loss 0.37048834562301636 && Training Acc is 0.8385077714920044 || Val loss 0.42414191365242004 && Val Acc is 0.8123123049736023\n",
            "2000 : Training loss 0.3623509705066681 && Training Acc is 0.8433483839035034 || Val loss 0.4232211112976074 && Val Acc is 0.815315306186676\n"
          ]
        }
      ],
      "source": [
        "model_2 = ClassificationModel(10, 64, 128, 1)\n",
        "loss_fn = nn.BCELoss()\n",
        "optimizer = torch.optim.Adam(model_2.parameters(), lr=1e-4)\n",
        "acc_data_train_2, acc_data_val_2, loss_data_train_2, loss_data_val_2 = train_eval_model(model_2, 2000, optimizer, loss_fn, X_train, X_val, y_train.reshape(-1, 1), y_val.reshape(-1, 1))"
      ]
    },
    {
      "cell_type": "code",
      "execution_count": 35,
      "metadata": {
        "id": "CaDTghJPIuTa",
        "outputId": "80ea6209-68c9-42c7-9413-8d7f21fd7297"
      },
      "outputs": [
        {
          "name": "stdout",
          "output_type": "stream",
          "text": [
            "0 : Training loss 3.3785147666931152 && Training Acc is 0.3508596122264862 || Val loss 2.3269126415252686 && Val Acc is 0.3558558523654938\n",
            "250 : Training loss 0.4440893232822418 && Training Acc is 0.7965281009674072 || Val loss 0.47389551997184753 && Val Acc is 0.7702702879905701\n",
            "500 : Training loss 0.402678519487381 && Training Acc is 0.8220664262771606 || Val loss 0.4413677155971527 && Val Acc is 0.7905405163764954\n",
            "750 : Training loss 0.37163713574409485 && Training Acc is 0.8385912179946899 || Val loss 0.4240533411502838 && Val Acc is 0.8063063025474548\n",
            "1000 : Training loss 0.34947407245635986 && Training Acc is 0.8500250577926636 || Val loss 0.4170480966567993 && Val Acc is 0.8123123049736023\n",
            "1250 : Training loss 0.33529338240623474 && Training Acc is 0.8543648719787598 || Val loss 0.41808560490608215 && Val Acc is 0.8183183073997498\n",
            "1500 : Training loss 0.3251115083694458 && Training Acc is 0.8590385317802429 || Val loss 0.4262846112251282 && Val Acc is 0.8168168067932129\n",
            "1750 : Training loss 0.31684839725494385 && Training Acc is 0.863545298576355 || Val loss 0.43561607599258423 && Val Acc is 0.8183183073997498\n",
            "2000 : Training loss 0.30994725227355957 && Training Acc is 0.866716742515564 || Val loss 0.5047093629837036 && Val Acc is 0.8168168067932129\n"
          ]
        }
      ],
      "source": [
        "model_3 = ClassificationModel(10, 128, 512, 1)\n",
        "loss_fn = nn.BCELoss()\n",
        "optimizer = torch.optim.Adam(model_3.parameters(), lr=1e-4)\n",
        "acc_data_train_3, acc_data_val_3, loss_data_train_3, loss_data_val_3 = train_eval_model(model_3, 2000, optimizer, loss_fn, X_train, X_val, y_train.reshape(-1, 1), y_val.reshape(-1, 1))"
      ]
    },
    {
      "cell_type": "code",
      "execution_count": 36,
      "metadata": {
        "id": "FSVG1pbgIuTa"
      },
      "outputs": [],
      "source": [
        "def plot_acc_loss(acc_data_train, acc_data_val, loss_data_train, loss_data_val):\n",
        "    x_axis = range(0, EPOCHS+1)\n",
        "    fig, axs = plt.subplots(1, 2, figsize=[18, 5])\n",
        "    \n",
        "    axs[0].plot(x_axis, acc_data_train, '--', color=\"r\",  label=\"Training score\")\n",
        "    axs[0].plot(x_axis, acc_data_val, color=\"b\", label=\"Cross-validation score\")\n",
        "    axs[0].set_title(\"Accuracy Curve\")\n",
        "    axs[0].set_xlabel(\"Training Set Size\")\n",
        "    axs[0].set_ylabel(\"Accuracy Score\"), plt.legend(loc=\"best\")\n",
        "    axs[0].legend()\n",
        "    \n",
        "    axs[1].plot(x_axis, loss_data_train, '--', color=\"r\",  label=\"Training loss\")\n",
        "    axs[1].plot(x_axis, loss_data_val, color=\"b\", label=\"Cross-validation loss\")\n",
        "    axs[1].set_title(\"Loss Curve\")\n",
        "    axs[1].set_xlabel(\"Training Set Size\")\n",
        "    axs[1].set_ylabel(\"Loss Score\"), plt.legend(loc=\"best\")\n",
        "    axs[1].legend()\n",
        "    plt.show()"
      ]
    },
    {
      "cell_type": "code",
      "execution_count": 37,
      "metadata": {
        "id": "cmxNNpr8IuTa",
        "outputId": "190932dd-13bd-4dd9-bc6f-9080f156aa10"
      },
      "outputs": [
        {
          "name": "stderr",
          "output_type": "stream",
          "text": [
            "No handles with labels found to put in legend.\n"
          ]
        },
        {
          "data": {
            "image/png": "[encoded data removed]",
            "text/plain": [
              "<Figure size 1296x360 with 2 Axes>"
            ]
          },
          "metadata": {
            "needs_background": "light"
          },
          "output_type": "display_data"
        }
      ],
      "source": [
        "plot_acc_loss(acc_data_train_1, acc_data_val_1, loss_data_train_1, loss_data_val_1)"
      ]
    },
    {
      "cell_type": "code",
      "execution_count": 38,
      "metadata": {
        "id": "gmF4e8OVIuTa",
        "outputId": "7622338b-709f-47aa-db7f-c2cc921cbfd6"
      },
      "outputs": [
        {
          "name": "stderr",
          "output_type": "stream",
          "text": [
            "No handles with labels found to put in legend.\n"
          ]
        },
        {
          "data": {
            "image/png": "[encoded data removed]",
            "text/plain": [
              "<Figure size 1296x360 with 2 Axes>"
            ]
          },
          "metadata": {
            "needs_background": "light"
          },
          "output_type": "display_data"
        }
      ],
      "source": [
        "plot_acc_loss(acc_data_train_2, acc_data_val_2, loss_data_train_2, loss_data_val_2)"
      ]
    },
    {
      "cell_type": "code",
      "execution_count": 39,
      "metadata": {
        "id": "kPctFe3DIuTb",
        "outputId": "6dd0afbb-5d87-4645-9c69-274165ed782f"
      },
      "outputs": [
        {
          "name": "stderr",
          "output_type": "stream",
          "text": [
            "No handles with labels found to put in legend.\n"
          ]
        },
        {
          "data": {
            "image/png": "[encoded data removed]",
            "text/plain": [
              "<Figure size 1296x360 with 2 Axes>"
            ]
          },
          "metadata": {
            "needs_background": "light"
          },
          "output_type": "display_data"
        }
      ],
      "source": [
        "plot_acc_loss(acc_data_train_3, acc_data_val_3, loss_data_train_3, loss_data_val_3)"
      ]
    },
    {
      "cell_type": "code",
      "execution_count": 40,
      "metadata": {
        "id": "FqH1UfaUIuTb"
      },
      "outputs": [],
      "source": [
        "def evalute_test(model, X_test, y_test):\n",
        "    model.eval()\n",
        "    y_pred_test = model(X_test)\n",
        "    cond = y_pred_test >= 0.5\n",
        "    y_pred_test = torch.where(cond, 1, 0)\n",
        "    train_acc = torch.sum(y_pred_test == y_test) / len(y_test)\n",
        "    print(f\"Model Acc. on Test Data {train_acc}\")"
      ]
    },
    {
      "cell_type": "code",
      "execution_count": 41,
      "metadata": {
        "id": "TPWOie-9IuTb",
        "outputId": "df371f07-4979-4b81-f9bd-c89540918985"
      },
      "outputs": [
        {
          "name": "stdout",
          "output_type": "stream",
          "text": [
            "Model Acc. on Test Data 0.8101997971534729\n",
            "Model Acc. on Test Data 0.8322818279266357\n",
            "Model Acc. on Test Data 0.8305292725563049\n"
          ]
        }
      ],
      "source": [
        "evalute_test(model_1, X_test, y_test.reshape(-1, 1))\n",
        "evalute_test(model_2, X_test, y_test.reshape(-1, 1))\n",
        "evalute_test(model_3, X_test, y_test.reshape(-1, 1))"
      ]
    },
    {
      "cell_type": "code",
      "execution_count": 42,
      "metadata": {},
      "outputs": [],
      "source": [
        "y_list = torch.chunk(y_train_val, 10)\n",
        "x_list = torch.chunk(X_train_val, 10)"
      ]
    },
    {
      "cell_type": "code",
      "execution_count": 43,
      "metadata": {},
      "outputs": [
        {
          "data": {
            "text/plain": [
              "torch.Size([1332, 10])"
            ]
          },
          "execution_count": 43,
          "metadata": {},
          "output_type": "execute_result"
        }
      ],
      "source": [
        "x_list[0].shape"
      ]
    },
    {
      "cell_type": "code",
      "execution_count": 44,
      "metadata": {},
      "outputs": [],
      "source": [
        "def get_val_train(data, ind):\n",
        "    val = data[ind]\n",
        "    train = torch.Tensor()\n",
        "    for i in range(len(data)):\n",
        "        if i != ind:\n",
        "            train = torch.cat((train, data[i]), dim=0)\n",
        "\n",
        "    return train, val"
      ]
    },
    {
      "cell_type": "code",
      "execution_count": 45,
      "metadata": {},
      "outputs": [],
      "source": [
        "param = [\n",
        "    [16, 32],\n",
        "    [32, 64],\n",
        "    [64, 128],\n",
        "    [128, 256],\n",
        "    [256, 512],\n",
        "]"
      ]
    },
    {
      "cell_type": "code",
      "execution_count": 51,
      "metadata": {
        "id": "ydWnbV5uIuTb"
      },
      "outputs": [],
      "source": [
        "def kfold(param, x_list, y_list, k, ephocs):\n",
        "    best_loss_val = float('inf')\n",
        "    best_acc_val = 0\n",
        "    best_acc_train = 0\n",
        "    best_loss_train = 0\n",
        "    best_model = None\n",
        "    for p in param:\n",
        "        model =  ClassificationModel(10, p[0], p[1], 1)\n",
        "        loss_fn = nn.BCELoss()\n",
        "        optimizer = torch.optim.Adam(model.parameters(), lr=1e-5)\n",
        "        total_loss_val = 0\n",
        "        total_loss_train = 0\n",
        "        total_acc_val = 0\n",
        "        total_acc_train = 0\n",
        "        for i in range(k):\n",
        "            x_t, x_v = get_val_train(x_list, i)\n",
        "            y_t, y_v = get_val_train(y_list, i)\n",
        "            acc_data_train, acc_data_val, loss_data_train, loss_data_val = train_eval_model(model, ephocs, optimizer, loss_fn, x_t, x_v, y_t.reshape(-1, 1), y_v.reshape(-1, 1), cross_val=True)\n",
        "            total_loss_train += np.sum(loss_data_train, axis=0) / ephocs\n",
        "            total_loss_val += np.sum(loss_data_val, axis=0) / ephocs\n",
        "            total_acc_train += np.sum(acc_data_train, axis=0) / ephocs\n",
        "            total_acc_val += np.sum(acc_data_val, axis=0) / ephocs\n",
        "        print(f'Using {p[0]},{p[1]} Training loss {total_loss_train / k} && Training Acc  {total_acc_val / k} || Val loss {total_loss_val / k} && Val Acc {total_acc_val / k}')\n",
        "        if best_loss_val > total_loss_val / k:\n",
        "            best_model = model\n",
        "            best_loss_val = total_loss_val / k\n",
        "            best_acc_val = total_acc_val / k\n",
        "            best_loss_train = total_loss_train / k\n",
        "            best_acc_train = total_acc_train / k\n",
        "    return best_model, best_acc_train, best_loss_train, best_acc_val, best_loss_val\n"
      ]
    },
    {
      "cell_type": "code",
      "execution_count": 52,
      "metadata": {},
      "outputs": [
        {
          "name": "stdout",
          "output_type": "stream",
          "text": [
            "Using 16,32 Training loss 0.5890575775146484 && Training Acc  0.7614491638183594 || Val loss 0.5732836181640625 && Val Acc 0.7614491638183594\n",
            "Using 32,64 Training loss 0.46378628234863284 && Training Acc  0.7984579956054688 || Val loss 0.4706030426025391 && Val Acc 0.7984579956054688\n",
            "Using 64,128 Training loss 0.4221237121582031 && Training Acc  0.8095386047363281 || Val loss 0.4346036071777344 && Val Acc 0.8095386047363281\n",
            "Using 128,256 Training loss 0.34709596557617184 && Training Acc  0.8370827453613281 || Val loss 0.3670499572753906 && Val Acc 0.8370827453613281\n"
          ]
        }
      ],
      "source": [
        "bestm, best_acc_train, best_loss_train, best_acc_val, best_loss_val = kfold(param, x_list, y_list, 10, 2000)"
      ]
    },
    {
      "cell_type": "code",
      "execution_count": null,
      "metadata": {},
      "outputs": [
        {
          "name": "stdout",
          "output_type": "stream",
          "text": [
            "Best Model parameters :  <bound method Module.parameters of ClassificationModel(\n",
            "  (l1): Linear(in_features=10, out_features=16, bias=True)\n",
            "  (l2): Linear(in_features=16, out_features=32, bias=True)\n",
            "  (out): Linear(in_features=32, out_features=1, bias=True)\n",
            ")>\n"
          ]
        }
      ],
      "source": [
        "print(f'Best Model parameters :  {bestm.parameters}')"
      ]
    },
    {
      "cell_type": "code",
      "execution_count": null,
      "metadata": {},
      "outputs": [
        {
          "name": "stdout",
          "output_type": "stream",
          "text": [
            "Model Acc. on Test Data 0.8221170902252197\n"
          ]
        }
      ],
      "source": [
        "evalute_test(bestm, X_test, y_test.reshape(-1, 1))"
      ]
    },
    {
      "cell_type": "code",
      "execution_count": null,
      "metadata": {},
      "outputs": [],
      "source": []
    },
    {
      "cell_type": "markdown",
      "metadata": {
        "id": "S7bjTUVWIuTb"
      },
      "source": [
        "### Scaling Data"
      ]
    },
    {
      "cell_type": "code",
      "execution_count": null,
      "metadata": {
        "id": "sB0l5OzsIuTc"
      },
      "outputs": [],
      "source": []
    },
    {
      "cell_type": "code",
      "execution_count": null,
      "metadata": {
        "id": "kjpzUjN8IuTc"
      },
      "outputs": [],
      "source": []
    }
  ],
  "metadata": {
    "colab": {
      "name": "model.ipynb",
      "provenance": []
    },
    "interpreter": {
      "hash": "c20b7c458658bee694630567ba3e0a0589b3365f748196e154460478b4d51f10"
    },
    "kernelspec": {
      "display_name": "Python 3.9.7 ('base')",
      "language": "python",
      "name": "python3"
    },
    "language_info": {
      "codemirror_mode": {
        "name": "ipython",
        "version": 3
      },
      "file_extension": ".py",
      "mimetype": "text/x-python",
      "name": "python",
      "nbconvert_exporter": "python",
      "pygments_lexer": "ipython3",
      "version": "3.9.7"
    },
    "orig_nbformat": 4
  },
  "nbformat": 4,
  "nbformat_minor": 0
}
