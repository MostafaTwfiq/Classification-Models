{
  "cells": [
    {
      "cell_type": "code",
      "execution_count": 19,
      "metadata": {
        "id": "GxS5DyDYaP2a"
      },
      "outputs": [],
      "source": [
        "import numpy as np\n",
        "import pandas as pd\n",
        "import sklearn\n",
        "from imblearn.under_sampling import RandomUnderSampler\n",
        "from sklearn.model_selection import train_test_split\n",
        "import math\n",
        "import random"
      ]
    },
    {
      "cell_type": "markdown",
      "metadata": {
        "id": "gu8bf2PKaP2f"
      },
      "source": [
        "## 0. Loading DataSet"
      ]
    },
    {
      "cell_type": "code",
      "execution_count": 6,
      "metadata": {
        "id": "l5zXtar9aP2h"
      },
      "outputs": [],
      "source": [
        "data_set = np.genfromtxt('magic04.data', delimiter=',', dtype=str) # Data is in the form of array of tuples\n",
        "labels = data_set[:, len(data_set[0]) - 1:len(data_set[0])]"
      ]
    },
    {
      "cell_type": "code",
      "source": [
        "!git checkout model-tuning"
      ],
      "metadata": {
        "colab": {
          "base_uri": "https://localhost:8080/"
        },
        "id": "dkrNJ1MsbDTi",
        "outputId": "45f1caf8-0dcd-4043-d86c-5ef13958ab67"
      },
      "execution_count": 27,
      "outputs": [
        {
          "output_type": "stream",
          "name": "stdout",
          "text": [
            "M\t.gitignore\n",
            "M\tREADME.md\n",
            "M\tmagic04.data\n",
            "M\tmodel.ipynb\n",
            "Switched to branch 'model-tuning'\n"
          ]
        }
      ]
    },
    {
      "cell_type": "code",
      "source": [
        "from google.colab import drive\n",
        "drive.mount('/content/drive')"
      ],
      "metadata": {
        "colab": {
          "base_uri": "https://localhost:8080/"
        },
        "id": "Y3I2u1yebGOL",
        "outputId": "d7fb994c-7f71-4059-9358-4acefad94ef5"
      },
      "execution_count": 4,
      "outputs": [
        {
          "output_type": "stream",
          "name": "stdout",
          "text": [
            "Mounted at /content/drive\n"
          ]
        }
      ]
    },
    {
      "cell_type": "markdown",
      "metadata": {
        "id": "-L31MbB2aP2i"
      },
      "source": [
        "# 1. Data Balancing"
      ]
    },
    {
      "cell_type": "code",
      "execution_count": 7,
      "metadata": {
        "id": "yXefNpX8aP2i"
      },
      "outputs": [],
      "source": [
        "under_sampler = RandomUnderSampler()\n",
        "sampled_data, sampled_labels = under_sampler.fit_resample(data_set, labels)"
      ]
    },
    {
      "cell_type": "code",
      "execution_count": 8,
      "metadata": {
        "colab": {
          "base_uri": "https://localhost:8080/"
        },
        "id": "4qNY0EqMaP2j",
        "outputId": "77e2d824-01e4-4cce-c3dc-44ff33b01d64"
      },
      "outputs": [
        {
          "output_type": "stream",
          "name": "stdout",
          "text": [
            "{'g': 12332, 'h': 6688}\n",
            "{'g': 6688, 'h': 6688}\n"
          ]
        }
      ],
      "source": [
        "unique, counts = np.unique(labels, return_counts=True)\n",
        "print(dict(zip(unique, counts)))\n",
        "unique, counts = np.unique(sampled_labels, return_counts=True)\n",
        "print(dict(zip(unique, counts)))"
      ]
    },
    {
      "cell_type": "markdown",
      "metadata": {
        "id": "BhK2bIQKaP2k"
      },
      "source": [
        "# 2. Data Split\n"
      ]
    },
    {
      "cell_type": "code",
      "execution_count": 9,
      "metadata": {
        "id": "s5dluW5HaP2l"
      },
      "outputs": [],
      "source": [
        "training_data_set, testing_data_set = train_test_split(data_set, test_size=0.3)"
      ]
    },
    {
      "cell_type": "code",
      "execution_count": 10,
      "metadata": {
        "id": "HRkjbE-JaP2m"
      },
      "outputs": [],
      "source": [
        "training_data = np.array(training_data_set[:, 0:len(training_data_set[0]) - 1]).astype(np.float64)\n",
        "training_labels = training_data_set[:, len(training_data_set[0]) - 1:len(training_data_set[0])]\n",
        "training_labels = np.reshape(training_labels, len(training_labels))"
      ]
    },
    {
      "cell_type": "code",
      "execution_count": 11,
      "metadata": {
        "id": "0eDUApP2aP2n"
      },
      "outputs": [],
      "source": [
        "testing_data = np.array(testing_data_set[:, 0:len(testing_data_set[0]) - 1]).astype(np.float64)\n",
        "testing_labels = testing_data_set[:, len(testing_data_set[0]) - 1:len(testing_data_set[0])]\n",
        "testing_labels = np.reshape(testing_labels, len(testing_labels))"
      ]
    },
    {
      "cell_type": "markdown",
      "metadata": {
        "id": "NPNcy6GOaP2o"
      },
      "source": [
        "# 3. Classification"
      ]
    },
    {
      "cell_type": "code",
      "execution_count": 12,
      "metadata": {
        "id": "BIcaaEgCaP2o"
      },
      "outputs": [],
      "source": [
        "from sklearn.metrics import accuracy_score\n",
        "from sklearn.metrics import precision_score\n",
        "from sklearn.metrics import recall_score\n",
        "from sklearn.metrics import f1_score\n",
        "\n",
        "from sklearn import tree\n",
        "from sklearn.naive_bayes import GaussianNB\n",
        "from sklearn.neighbors import KNeighborsClassifier\n",
        "from sklearn.ensemble import AdaBoostClassifier\n",
        "from sklearn.ensemble import RandomForestClassifier"
      ]
    },
    {
      "cell_type": "markdown",
      "metadata": {
        "id": "aWVqahOdaP2p"
      },
      "source": [
        "### (a) Decision Tree"
      ]
    },
    {
      "cell_type": "code",
      "execution_count": 13,
      "metadata": {
        "id": "YFq3PhOGaP2p"
      },
      "outputs": [],
      "source": [
        "def decision_tree(tr_data, tr_labels, tst_data):\n",
        "    decision_tree = tree.DecisionTreeClassifier()\n",
        "    decision_tree_pred = decision_tree.fit(tr_data, tr_labels).predict(tst_data)\n",
        "    return decision_tree_pred"
      ]
    },
    {
      "cell_type": "markdown",
      "metadata": {
        "id": "AtPY8QpeaP2q"
      },
      "source": [
        "### (b) AdaBoost"
      ]
    },
    {
      "cell_type": "code",
      "execution_count": 14,
      "metadata": {
        "id": "w4rAqrc8aP2q"
      },
      "outputs": [],
      "source": [
        "def ada_boost(tr_data, tr_labels, tst_data, n_estimators):\n",
        "    ada_boost = AdaBoostClassifier(n_estimators=n_estimators)\n",
        "    ada_boost_pred = ada_boost.fit(tr_data, tr_labels).predict(tst_data)\n",
        "    return ada_boost_pred\n",
        "    "
      ]
    },
    {
      "cell_type": "markdown",
      "metadata": {
        "id": "vwvuMqLsaP2q"
      },
      "source": [
        "### (c) K-Nearest Neighbors (K-NN)"
      ]
    },
    {
      "cell_type": "code",
      "execution_count": 15,
      "metadata": {
        "id": "07Thh76TaP2r"
      },
      "outputs": [],
      "source": [
        "def knn(tr_data, tr_labels, tst_data, k_neighb = 3):\n",
        "    neigh = KNeighborsClassifier(n_neighbors=k_neighb)\n",
        "    knn_pred = neigh.fit(tr_data, tr_labels).predict(tst_data)\n",
        "    return knn_pred"
      ]
    },
    {
      "cell_type": "markdown",
      "metadata": {
        "id": "A9o4s6PFaP2r"
      },
      "source": [
        "### (d) Random Forests\n"
      ]
    },
    {
      "cell_type": "code",
      "execution_count": 16,
      "metadata": {
        "id": "FAK4FfohaP2r"
      },
      "outputs": [],
      "source": [
        "def random_forests(tr_data, tr_labels, tst_data, n_estimators):\n",
        "    random_forests = RandomForestClassifier(n_estimators=n_estimators)\n",
        "    random_forests_pred = random_forests.fit(tr_data, tr_labels).predict(tst_data)\n",
        "    return random_forests_pred\n",
        "    "
      ]
    },
    {
      "cell_type": "markdown",
      "metadata": {
        "id": "_iCD3NO4aP2s"
      },
      "source": [
        "### (e) Na¨ıve Bayes\n"
      ]
    },
    {
      "cell_type": "code",
      "execution_count": 17,
      "metadata": {
        "id": "eOTqDuG_aP2s"
      },
      "outputs": [],
      "source": [
        "def naive_bayes(tr_data, tr_labels, tst_data):\n",
        "    gnb = GaussianNB()\n",
        "    naive_bayes_pred = gnb.fit(tr_data, tr_labels).predict(tst_data)\n",
        "    return naive_bayes_pred"
      ]
    },
    {
      "cell_type": "markdown",
      "metadata": {
        "id": "qpItrFGDaP2t"
      },
      "source": [
        "# 4. Model Parameter Tuning\n"
      ]
    },
    {
      "cell_type": "code",
      "source": [
        "def splitData(data, labels, n_splits):\n",
        "\n",
        "  step = math.floor(len(data)/n_splits)\n",
        "\n",
        "  splitted_data = []\n",
        "  splitted_labels = []\n",
        "\n",
        "  index = 0\n",
        "  for i in range(n_splits):\n",
        "    if index+step > len(data):\n",
        "      splitted_data.append(data[index:])\n",
        "      splitted_labels.append(labels[index:])\n",
        "    else:\n",
        "      splitted_data.append(data[index: index+step])\n",
        "      splitted_labels.append(labels[index:index+step])\n",
        "    index = index+step\n",
        "\n",
        "  return splitted_data, splitted_labels\n"
      ],
      "metadata": {
        "id": "rvHC9Ll6aT-n"
      },
      "execution_count": 20,
      "outputs": []
    },
    {
      "cell_type": "code",
      "source": [
        "def tuneParamters(splitted_data, splitted_labels, set_classifier_params, domain, kparams):\n",
        "\n",
        "  params = []\n",
        "\n",
        "  scores = {}\n",
        "\n",
        "  # intitialize k random parmaters space\n",
        "  for i in range(kparams):\n",
        "\n",
        "    index = random.randint(0, len(domain)-1)\n",
        "    params.append(domain[index])\n",
        "    del domain[index]\n",
        "\n",
        "  # classifing using each generated parameter\n",
        "  for i in range(kparams):\n",
        "    \n",
        "    classifieri = set_classifier_params(params[i])\n",
        "    sum = 0\n",
        "    n = len(splitted_data)\n",
        "\n",
        "    # k-corss validation and compute average score\n",
        "    for j in range(n):\n",
        "\n",
        "      #splitting data to train and validation\n",
        "      training_data = [splitted_data[k] for k in range(n) if k != j]\n",
        "      training_labels = [splitted_labels[k] for k in range(n) if k != j]\n",
        "      \n",
        "      merged_data = []\n",
        "\n",
        "      for k in range(len(training_data)):\n",
        "        merged_data.extend(training_data[k])\n",
        "      training_data = merged_data\n",
        "\n",
        "      merged_labels = []\n",
        "\n",
        "      for k in range(len(training_labels)):\n",
        "        merged_labels.extend(training_labels[k])\n",
        "      training_labels = merged_labels\n",
        "\n",
        "      \n",
        "      testing_data = splitted_data[j]\n",
        "      testing_labels = splitted_labels[j]\n",
        "\n",
        "      classifier_pred = classifieri.fit(training_data, training_labels).predict(testing_data)\n",
        "      accuracy = accuracy_score(testing_labels, classifier_pred)\n",
        "      sum = sum + accuracy\n",
        "    scores[params[i]] = sum/n\n",
        "\n",
        "  return max(scores, key=scores.get)\n",
        "\n",
        "  \n",
        "\n",
        "\n",
        "\n",
        "  "
      ],
      "metadata": {
        "id": "x7T-Q6hxa14A"
      },
      "execution_count": 21,
      "outputs": []
    },
    {
      "cell_type": "code",
      "source": [
        "splitted_data, splitted_labels = splitData(training_data, training_labels, 2)\n",
        "\n",
        "#K-nn classifier tuning:\n",
        "k = tuneParamters(splitted_data, splitted_labels, lambda k: KNeighborsClassifier(n_neighbors=k), [i for i in range(1, 30)], 5)\n",
        "\n",
        "predictions = knn(training_data, training_labels, testing_data, k)\n",
        "\n",
        "print(f\"Knn accuracy with k = {k} is {accuracy_score(testing_labels, predictions)*100}%\")\n",
        "\n",
        "#adaboost tuning:\n",
        "n_estimators = tuneParamters(splitted_data, splitted_labels, lambda n_estimators: AdaBoostClassifier(n_estimators=n_estimators), [i for i in range(1, 30)], 5)\n",
        "\n",
        "predictions = ada_boost(training_data, training_labels, testing_data, n_estimators=n_estimators)\n",
        "\n",
        "print(f\"adaboost accuracy with n_estimators = {n_estimators} is {accuracy_score(testing_labels, predictions)*100}%\")\n",
        "\n",
        "#random forests tuning:\n",
        "n_estimators = tuneParamters(splitted_data, splitted_labels, lambda n_estimators: RandomForestClassifier(n_estimators=n_estimators), [i for i in range(1, 30)], 5)\n",
        "\n",
        "predictions = random_forests(training_data, training_labels, testing_data, n_estimators=n_estimators)\n",
        "\n",
        "print(f\"Random forests accuracy with n_estimators = {n_estimators} is {accuracy_score(testing_labels, predictions)*100}%\")"
      ],
      "metadata": {
        "colab": {
          "base_uri": "https://localhost:8080/"
        },
        "id": "Y3YOXHo-a9LK",
        "outputId": "22c6e6ec-a388-4064-8265-b198bd76eade"
      },
      "execution_count": 22,
      "outputs": [
        {
          "output_type": "stream",
          "name": "stdout",
          "text": [
            "Knn accuracy with k = 13 is 81.0900806168945%\n",
            "adaboost accuracy with n_estimators = 27 is 83.21065545040308%\n",
            "Random forests accuracy with n_estimators = 27 is 87.24150017525412%\n"
          ]
        }
      ]
    },
    {
      "cell_type": "code",
      "execution_count": null,
      "metadata": {
        "id": "DZxGAqYOaP2t",
        "outputId": "4ada3d7b-972a-44fa-b2a0-17fc0a71ae4f"
      },
      "outputs": [
        {
          "name": "stdout",
          "output_type": "stream",
          "text": [
            "Decision tree accuracy:  81.77357167893446 %\n"
          ]
        },
        {
          "data": {
            "text/plain": [
              "0.8173872838925176"
            ]
          },
          "execution_count": 134,
          "metadata": {},
          "output_type": "execute_result"
        }
      ],
      "source": [
        "decision_tree_pred = decision_tree(training_data, training_labels, testing_data)\n",
        "print(\"Decision tree accuracy: \", accuracy_score(testing_labels, decision_tree_pred) * 100, \"%\")\n",
        "precision_score(testing_labels, decision_tree_pred, average='weighted')\n",
        "recall_score(testing_labels, decision_tree_pred, average='weighted')\n",
        "f1_score(testing_labels, decision_tree_pred, average='weighted')"
      ]
    },
    {
      "cell_type": "code",
      "execution_count": null,
      "metadata": {
        "id": "S7E8TRVVaP2u",
        "outputId": "341d1e47-e5bb-4a02-8ce7-9259f8053a2c"
      },
      "outputs": [
        {
          "name": "stdout",
          "output_type": "stream",
          "text": [
            "Na¨ıve bayes accuracy:  72.94076410795654 %\n"
          ]
        },
        {
          "data": {
            "text/plain": [
              "0.7037757415954962"
            ]
          },
          "execution_count": 135,
          "metadata": {},
          "output_type": "execute_result"
        }
      ],
      "source": [
        "naive_bayes_pred = naive_bayes(training_data, training_labels, testing_data)\n",
        "print(\"Na¨ıve bayes accuracy: \", accuracy_score(testing_labels, naive_bayes_pred) * 100, \"%\")\n",
        "precision_score(testing_labels, naive_bayes_pred, average='weighted')\n",
        "recall_score(testing_labels, naive_bayes_pred, average='weighted')\n",
        "f1_score(testing_labels, naive_bayes_pred, average='weighted')"
      ]
    },
    {
      "cell_type": "code",
      "execution_count": null,
      "metadata": {
        "id": "k3zXaYPraP2u",
        "outputId": "00fcd7da-2359-49d2-ff6b-c3d95d2b37f0"
      },
      "outputs": [
        {
          "name": "stdout",
          "output_type": "stream",
          "text": [
            "1-NN accuracy:  78.42621801612339 %\n",
            "2-NN accuracy:  79.21486154924641 %\n",
            "3-NN accuracy:  79.67052225727305 %\n",
            "4-NN accuracy:  79.96845425867508 %\n",
            "5-NN accuracy:  80.354013319313 %\n",
            "6-NN accuracy:  80.5292674377848 %\n",
            "7-NN accuracy:  81.19523308797757 %\n",
            "8-NN accuracy:  81.45811426568524 %\n",
            "9-NN accuracy:  81.61584297230985 %\n",
            "10-NN accuracy:  81.44058885383807 %\n",
            "11-NN accuracy:  81.61584297230985 %\n",
            "12-NN accuracy:  81.31791097090782 %\n",
            "13-NN accuracy:  81.4055380301437 %\n",
            "14-NN accuracy:  81.35296179460218 %\n",
            "15-NN accuracy:  81.44058885383807 %\n",
            "16-NN accuracy:  81.10760602874167 %\n",
            "17-NN accuracy:  81.66841920785139 %\n",
            "18-NN accuracy:  81.17770767613038 %\n",
            "19-NN accuracy:  81.44058885383807 %\n",
            "20-NN accuracy:  81.16018226428321 %\n"
          ]
        }
      ],
      "source": [
        "k_neighb = [1, 2, 3, 4, 5, 6, 7, 8, 9, 10, 11, 12, 13, 14, 15, 16, 17, 18, 19, 20]\n",
        "for k in k_neighb:\n",
        "    knn_pred = knn(training_data, training_labels, testing_data, k)\n",
        "    print(str(k) + \"-NN accuracy: \", accuracy_score(testing_labels, knn_pred) * 100, \"%\")\n",
        "    precision_score(testing_labels, knn_pred, average='weighted')\n",
        "    recall_score(testing_labels, knn_pred, average='weighted')\n",
        "    f1_score(testing_labels, knn_pred, average='weighted')"
      ]
    },
    {
      "cell_type": "code",
      "execution_count": null,
      "metadata": {
        "id": "v1Olbg16aP2u",
        "outputId": "fc0f632b-3cf7-4d19-9566-367f7618cfe1"
      },
      "outputs": [
        {
          "name": "stdout",
          "output_type": "stream",
          "text": [
            "90_estimators AdaBoost accuracy:  84.43743427970557 %\n",
            "91_estimators AdaBoost accuracy:  84.45495969155276 %\n",
            "92_estimators AdaBoost accuracy:  84.4199088678584 %\n",
            "93_estimators AdaBoost accuracy:  84.43743427970557 %\n",
            "94_estimators AdaBoost accuracy:  84.40238345601122 %\n",
            "95_estimators AdaBoost accuracy:  84.61268839817735 %\n",
            "96_estimators AdaBoost accuracy:  84.5075359270943 %\n",
            "97_estimators AdaBoost accuracy:  84.54258675078864 %\n",
            "98_estimators AdaBoost accuracy:  84.54258675078864 %\n",
            "99_estimators AdaBoost accuracy:  84.54258675078864 %\n",
            "100_estimators AdaBoost accuracy:  84.5075359270943 %\n"
          ]
        }
      ],
      "source": [
        "n_estimators = [90, 91, 92, 93, 94, 95, 96, 97, 98, 99, 100]\n",
        "for n in n_estimators:\n",
        "    ada_boost_pred = ada_boost(training_data, training_labels, testing_data, n)\n",
        "    print(str(n) + \"_estimators AdaBoost accuracy: \", accuracy_score(testing_labels, ada_boost_pred) * 100, \"%\")\n",
        "    precision_score(testing_labels, ada_boost_pred, average='weighted')\n",
        "    recall_score(testing_labels, ada_boost_pred, average='weighted')\n",
        "    f1_score(testing_labels, ada_boost_pred, average='weighted')"
      ]
    },
    {
      "cell_type": "code",
      "execution_count": null,
      "metadata": {
        "id": "1nFa8vJqaP2v",
        "outputId": "5a353d6a-a4fc-43de-bd88-a27ad3cace76"
      },
      "outputs": [
        {
          "name": "stdout",
          "output_type": "stream",
          "text": [
            "90_estimators random forests accuracy:  87.45180511742025 %\n",
            "91_estimators random forests accuracy:  87.48685594111461 %\n",
            "92_estimators random forests accuracy:  87.45180511742025 %\n",
            "93_estimators random forests accuracy:  87.32912723449002 %\n",
            "94_estimators random forests accuracy:  87.45180511742025 %\n",
            "95_estimators random forests accuracy:  87.55695758850332 %\n",
            "96_estimators random forests accuracy:  87.73221170697512 %\n",
            "97_estimators random forests accuracy:  87.46933052926744 %\n",
            "98_estimators random forests accuracy:  87.67963547143358 %\n",
            "99_estimators random forests accuracy:  87.57448300035051 %\n",
            "100_estimators random forests accuracy:  87.73221170697512 %\n"
          ]
        }
      ],
      "source": [
        "n_estimators = [90, 91, 92, 93, 94, 95, 96, 97, 98, 99, 100]\n",
        "for n in n_estimators:\n",
        "    random_forests_pred = random_forests(training_data, training_labels, testing_data, n)\n",
        "    print(str(n) + \"_estimators random forests accuracy: \", accuracy_score(testing_labels, random_forests_pred) * 100, \"%\")\n",
        "    precision_score(testing_labels, random_forests_pred, average='weighted')\n",
        "    recall_score(testing_labels, random_forests_pred, average='weighted')\n",
        "    f1_score(testing_labels, random_forests_pred, average='weighted')"
      ]
    },
    {
      "cell_type": "markdown",
      "metadata": {
        "id": "8eirHxy2aP2v"
      },
      "source": [
        "# 5. Report Requirements"
      ]
    },
    {
      "cell_type": "code",
      "execution_count": null,
      "metadata": {
        "id": "IaqRmGpzaP2v"
      },
      "outputs": [],
      "source": [
        ""
      ]
    },
    {
      "cell_type": "code",
      "execution_count": null,
      "metadata": {
        "id": "Js8KSKcDaP2v"
      },
      "outputs": [],
      "source": [
        ""
      ]
    },
    {
      "cell_type": "markdown",
      "metadata": {
        "id": "i389uQzIaP2w"
      },
      "source": [
        "# 6. Bonus"
      ]
    },
    {
      "cell_type": "code",
      "execution_count": null,
      "metadata": {
        "id": "pQJOaGOTaP2w"
      },
      "outputs": [],
      "source": [
        ""
      ]
    }
  ],
  "metadata": {
    "interpreter": {
      "hash": "384275cc682b8282d78d926a1c30ea86f5d409f6a82816c5f6672e2be770768b"
    },
    "kernelspec": {
      "display_name": "Python 3.9.7 ('base')",
      "language": "python",
      "name": "python3"
    },
    "language_info": {
      "codemirror_mode": {
        "name": "ipython",
        "version": 3
      },
      "file_extension": ".py",
      "mimetype": "text/x-python",
      "name": "python",
      "nbconvert_exporter": "python",
      "pygments_lexer": "ipython3",
      "version": "3.9.7"
    },
    "orig_nbformat": 4,
    "colab": {
      "name": "model.ipynb",
      "provenance": []
    }
  },
  "nbformat": 4,
  "nbformat_minor": 0
}